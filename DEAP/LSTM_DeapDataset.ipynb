{
 "cells": [
  {
   "cell_type": "code",
   "execution_count": 1,
   "id": "06f5d350",
   "metadata": {},
   "outputs": [],
   "source": [
    "import numpy\n",
    "import matplotlib.pyplot as plt\n",
    "import pandas as pd\n",
    "import numpy as np\n",
    "import json"
   ]
  },
  {
   "cell_type": "code",
   "execution_count": 3,
   "id": "9de29fed",
   "metadata": {},
   "outputs": [],
   "source": [
    "from keras.models import Sequential\n",
    "from keras.layers import Dense\n",
    "from keras.layers import LSTM\n",
    "from sklearn.model_selection import train_test_split"
   ]
  },
  {
   "cell_type": "code",
   "execution_count": 4,
   "id": "f9d98977",
   "metadata": {},
   "outputs": [],
   "source": [
    "subjects = ['01','02','03','04','05','06','07','08','09','10','11','12','13','14','15','16','17','18','19','20','21','22','23','24','25','26','27','28','29','30','31','32']"
   ]
  },
  {
   "cell_type": "code",
   "execution_count": 5,
   "id": "fe0e1ecf",
   "metadata": {},
   "outputs": [
    {
     "name": "stdout",
     "output_type": "stream",
     "text": [
      "01\n",
      "02\n",
      "03\n",
      "04\n",
      "05\n",
      "06\n",
      "07\n",
      "08\n",
      "09\n",
      "10\n",
      "11\n",
      "12\n",
      "13\n",
      "14\n",
      "15\n",
      "16\n",
      "17\n",
      "18\n",
      "19\n",
      "20\n",
      "21\n",
      "22\n",
      "23\n",
      "24\n",
      "25\n",
      "26\n",
      "27\n",
      "28\n",
      "29\n",
      "30\n",
      "31\n",
      "32\n"
     ]
    }
   ],
   "source": [
    "dicty = {'labels':[]}\n",
    "x = []\n",
    "for i in subjects:\n",
    "    d = open('data_preprocessed_python/data_json/'+i)\n",
    "    d = json.load(d)\n",
    "    if(i == '01'):\n",
    "        x = numpy.array(d['data'])\n",
    "    else:\n",
    "        x = numpy.concatenate((x, numpy.array(d['data'])), axis=0)\n",
    "    dicty['labels'] += d['labels']\n",
    "    print(i)"
   ]
  },
  {
   "cell_type": "code",
   "execution_count": 29,
   "id": "f28ea9e5",
   "metadata": {},
   "outputs": [
    {
     "name": "stdout",
     "output_type": "stream",
     "text": [
      "(1280, 40, 8064) (1280, 4)\n"
     ]
    }
   ],
   "source": [
    "y =[]\n",
    "for i in dicty['labels']:\n",
    "    y.append([int(i[0]), int(i[1]), int(i[2]), int(i[3])])\n",
    "y = numpy.array(y)\n",
    "print(x.shape, y.shape)"
   ]
  },
  {
   "cell_type": "code",
   "execution_count": 30,
   "id": "8eb6532c",
   "metadata": {},
   "outputs": [],
   "source": [
    "x_train, x_test, y_train, y_test = train_test_split(x, y, test_size=0.33)"
   ]
  },
  {
   "cell_type": "code",
   "execution_count": 31,
   "id": "52f5e4ac",
   "metadata": {},
   "outputs": [
    {
     "name": "stdout",
     "output_type": "stream",
     "text": [
      "(857, 40, 8064) (423, 40, 8064) (857, 4) (423, 4)\n"
     ]
    }
   ],
   "source": [
    "print(x_train.shape, x_test.shape, y_train.shape, y_test.shape)"
   ]
  },
  {
   "cell_type": "code",
   "execution_count": 33,
   "id": "98464c2d",
   "metadata": {},
   "outputs": [],
   "source": [
    "import tensorflow as tf\n",
    "from tensorflow.keras import Sequential\n",
    "\n",
    "from tensorflow.keras.layers import Dense, Dropout\n",
    "from tensorflow.keras.layers import Embedding\n",
    "from tensorflow.keras.layers import LSTM\n",
    "tf.keras.backend.clear_session()"
   ]
  },
  {
   "cell_type": "code",
   "execution_count": 34,
   "id": "5282c922",
   "metadata": {},
   "outputs": [
    {
     "name": "stdout",
     "output_type": "stream",
     "text": [
      "Model: \"sequential\"\n",
      "_________________________________________________________________\n",
      "Layer (type)                 Output Shape              Param #   \n",
      "=================================================================\n",
      "lstm (LSTM)                  (None, 40, 64)            2081024   \n",
      "_________________________________________________________________\n",
      "dropout (Dropout)            (None, 40, 64)            0         \n",
      "_________________________________________________________________\n",
      "lstm_1 (LSTM)                (None, 32)                12416     \n",
      "_________________________________________________________________\n",
      "dropout_1 (Dropout)          (None, 32)                0         \n",
      "_________________________________________________________________\n",
      "dense (Dense)                (None, 4)                 132       \n",
      "=================================================================\n",
      "Total params: 2,093,572\n",
      "Trainable params: 2,093,572\n",
      "Non-trainable params: 0\n",
      "_________________________________________________________________\n"
     ]
    }
   ],
   "source": [
    "model = Sequential()\n",
    "model.add(LSTM(64, input_shape=(40,8064),activation=\"relu\",return_sequences=True))\n",
    "model.add(Dropout(0.2))\n",
    "model.add(LSTM(32,activation=\"sigmoid\"))\n",
    "model.add(Dropout(0.2))\n",
    "model.add(Dense(4, activation='sigmoid'))\n",
    "from keras.optimizers import SGD\n",
    "model.compile(loss = 'categorical_crossentropy', optimizer = \"adam\", metrics = ['accuracy'])\n",
    "model.summary()"
   ]
  },
  {
   "cell_type": "code",
   "execution_count": 38,
   "id": "803a4e89",
   "metadata": {},
   "outputs": [
    {
     "name": "stdout",
     "output_type": "stream",
     "text": [
      "EEG recordings of all 40 channels when the first video is played :\n",
      " [[ 9.48231681e-01  1.65333533e+00  3.01372577e+00 ... -2.82648937e+00\n",
      "  -4.47722969e+00 -3.67692812e+00]\n",
      " [ 1.24706590e-01  1.39008270e+00  1.83509881e+00 ... -2.98702069e+00\n",
      "  -6.28780884e+00 -4.47429041e+00]\n",
      " [-2.21651099e+00  2.29201682e+00  2.74636923e+00 ... -2.63707760e+00\n",
      "  -7.40651010e+00 -6.75590441e+00]\n",
      " ...\n",
      " [ 2.30779684e+02  6.96716323e+02  1.19512165e+03 ...  1.01080949e+03\n",
      "   1.28312149e+03  1.51996480e+03]\n",
      " [-1.54180981e+03 -1.61798052e+03 -1.69268642e+03 ... -1.57842691e+04\n",
      "  -1.57823160e+04 -1.57808512e+04]\n",
      " [ 6.39054310e-03  6.39054310e-03  6.39054310e-03 ... -9.76081241e-02\n",
      "  -9.76081241e-02 -9.76081241e-02]]\n",
      "\n",
      "Readings(valence, arousal, dominance, liking) for the First video :  [7 7 6 7]\n"
     ]
    }
   ],
   "source": [
    "print(\"EEG recordings of all 40 channels when the first video is played :\\n\",x[0])\n",
    "print(\"\\nReadings(valence, arousal, dominance, liking) for the First video : \",y[0])"
   ]
  },
  {
   "cell_type": "code",
   "execution_count": 39,
   "id": "5ffd8716",
   "metadata": {
    "scrolled": true
   },
   "outputs": [
    {
     "name": "stdout",
     "output_type": "stream",
     "text": [
      "Epoch 1/50\n",
      "27/27 [==============================] - 35s 1s/step - loss: 30.8257 - accuracy: 0.1610 - val_loss: 30.8183 - val_accuracy: 0.1702\n",
      "Epoch 2/50\n",
      "27/27 [==============================] - 11s 423ms/step - loss: 30.7131 - accuracy: 0.1879 - val_loss: 30.8872 - val_accuracy: 0.1206\n",
      "Epoch 3/50\n",
      "27/27 [==============================] - 14s 508ms/step - loss: 30.5295 - accuracy: 0.1622 - val_loss: 30.8891 - val_accuracy: 0.1513\n",
      "Epoch 4/50\n",
      "27/27 [==============================] - 15s 541ms/step - loss: 30.4504 - accuracy: 0.2334 - val_loss: 30.6692 - val_accuracy: 0.2151\n",
      "Epoch 5/50\n",
      "27/27 [==============================] - 15s 560ms/step - loss: 30.3277 - accuracy: 0.3092 - val_loss: 30.5256 - val_accuracy: 0.2671\n",
      "Epoch 6/50\n",
      "27/27 [==============================] - 15s 556ms/step - loss: 30.3202 - accuracy: 0.2824 - val_loss: 30.5641 - val_accuracy: 0.3357\n",
      "Epoch 7/50\n",
      "27/27 [==============================] - 14s 502ms/step - loss: 30.2964 - accuracy: 0.3116 - val_loss: 30.5879 - val_accuracy: 0.3168\n",
      "Epoch 8/50\n",
      "27/27 [==============================] - 14s 513ms/step - loss: 30.3310 - accuracy: 0.2952 - val_loss: 30.5775 - val_accuracy: 0.3357\n",
      "Epoch 9/50\n",
      "27/27 [==============================] - 13s 492ms/step - loss: 30.2749 - accuracy: 0.2917 - val_loss: 30.5190 - val_accuracy: 0.3191\n",
      "Epoch 10/50\n",
      "27/27 [==============================] - 15s 553ms/step - loss: 30.2488 - accuracy: 0.3081 - val_loss: 30.4815 - val_accuracy: 0.3097\n",
      "Epoch 11/50\n",
      "27/27 [==============================] - 13s 491ms/step - loss: 30.2271 - accuracy: 0.3256 - val_loss: 30.4589 - val_accuracy: 0.3357\n",
      "Epoch 12/50\n",
      "27/27 [==============================] - 15s 556ms/step - loss: 30.1935 - accuracy: 0.3361 - val_loss: 30.5147 - val_accuracy: 0.2931\n",
      "Epoch 13/50\n",
      "27/27 [==============================] - 15s 557ms/step - loss: 30.1983 - accuracy: 0.3407 - val_loss: 30.4725 - val_accuracy: 0.2553\n",
      "Epoch 14/50\n",
      "27/27 [==============================] - 14s 522ms/step - loss: 30.1632 - accuracy: 0.3139 - val_loss: 30.4894 - val_accuracy: 0.3428\n",
      "Epoch 15/50\n",
      "27/27 [==============================] - 14s 504ms/step - loss: 30.1542 - accuracy: 0.3314 - val_loss: 30.4517 - val_accuracy: 0.2837\n",
      "Epoch 16/50\n",
      "27/27 [==============================] - 15s 549ms/step - loss: 30.1806 - accuracy: 0.3151 - val_loss: 30.4377 - val_accuracy: 0.3144\n",
      "Epoch 17/50\n",
      "27/27 [==============================] - 14s 515ms/step - loss: 30.1641 - accuracy: 0.2964 - val_loss: 30.4595 - val_accuracy: 0.2931\n",
      "Epoch 18/50\n",
      "27/27 [==============================] - 15s 542ms/step - loss: 30.1979 - accuracy: 0.2975 - val_loss: 30.4697 - val_accuracy: 0.3546\n",
      "Epoch 19/50\n",
      "27/27 [==============================] - 14s 507ms/step - loss: 30.1625 - accuracy: 0.3314 - val_loss: 30.4538 - val_accuracy: 0.3381\n",
      "Epoch 20/50\n",
      "27/27 [==============================] - 13s 490ms/step - loss: 30.1906 - accuracy: 0.3069 - val_loss: 30.5217 - val_accuracy: 0.3191\n",
      "Epoch 21/50\n",
      "27/27 [==============================] - 15s 549ms/step - loss: 30.1687 - accuracy: 0.3069 - val_loss: 30.5093 - val_accuracy: 0.3191\n",
      "Epoch 22/50\n",
      "27/27 [==============================] - 14s 516ms/step - loss: 30.1572 - accuracy: 0.3116 - val_loss: 30.4131 - val_accuracy: 0.3428\n",
      "Epoch 23/50\n",
      "27/27 [==============================] - 15s 543ms/step - loss: 30.1097 - accuracy: 0.3267 - val_loss: 30.4775 - val_accuracy: 0.3428\n",
      "Epoch 24/50\n",
      "27/27 [==============================] - 13s 487ms/step - loss: 30.1215 - accuracy: 0.3256 - val_loss: 30.4660 - val_accuracy: 0.3191\n",
      "Epoch 25/50\n",
      "27/27 [==============================] - 15s 548ms/step - loss: 30.1155 - accuracy: 0.3314 - val_loss: 30.4242 - val_accuracy: 0.3191\n",
      "Epoch 26/50\n",
      "27/27 [==============================] - 14s 504ms/step - loss: 30.1225 - accuracy: 0.3314 - val_loss: 30.4138 - val_accuracy: 0.3191\n",
      "Epoch 27/50\n",
      "27/27 [==============================] - 15s 538ms/step - loss: 30.1191 - accuracy: 0.3186 - val_loss: 30.3733 - val_accuracy: 0.3428\n",
      "Epoch 28/50\n",
      "27/27 [==============================] - 13s 496ms/step - loss: 30.0817 - accuracy: 0.3314 - val_loss: 30.4218 - val_accuracy: 0.3191\n",
      "Epoch 29/50\n",
      "27/27 [==============================] - 15s 539ms/step - loss: 30.1187 - accuracy: 0.3454 - val_loss: 30.4727 - val_accuracy: 0.3357\n",
      "Epoch 30/50\n",
      "27/27 [==============================] - 13s 494ms/step - loss: 30.1291 - accuracy: 0.3477 - val_loss: 30.4573 - val_accuracy: 0.3357\n",
      "Epoch 31/50\n",
      "27/27 [==============================] - 15s 537ms/step - loss: 30.1255 - accuracy: 0.3454 - val_loss: 30.4380 - val_accuracy: 0.3357\n",
      "Epoch 32/50\n",
      "27/27 [==============================] - 13s 490ms/step - loss: 30.1070 - accuracy: 0.3454 - val_loss: 30.4052 - val_accuracy: 0.3357\n",
      "Epoch 33/50\n",
      "27/27 [==============================] - 15s 538ms/step - loss: 30.0900 - accuracy: 0.3477 - val_loss: 30.4011 - val_accuracy: 0.3593\n",
      "Epoch 34/50\n",
      "27/27 [==============================] - 13s 492ms/step - loss: 30.0929 - accuracy: 0.3617 - val_loss: 30.4166 - val_accuracy: 0.3357\n",
      "Epoch 35/50\n",
      "27/27 [==============================] - 14s 536ms/step - loss: 30.1019 - accuracy: 0.3606 - val_loss: 30.4219 - val_accuracy: 0.3357\n",
      "Epoch 36/50\n",
      "27/27 [==============================] - 13s 495ms/step - loss: 30.1307 - accuracy: 0.3536 - val_loss: 30.4479 - val_accuracy: 0.3357\n",
      "Epoch 37/50\n",
      "27/27 [==============================] - 14s 536ms/step - loss: 30.1106 - accuracy: 0.3407 - val_loss: 30.4650 - val_accuracy: 0.3357\n",
      "Epoch 38/50\n",
      "27/27 [==============================] - 13s 468ms/step - loss: 30.1081 - accuracy: 0.3524 - val_loss: 30.4237 - val_accuracy: 0.3357\n",
      "Epoch 39/50\n",
      "27/27 [==============================] - 14s 535ms/step - loss: 30.0953 - accuracy: 0.3524 - val_loss: 30.4099 - val_accuracy: 0.3357\n",
      "Epoch 40/50\n",
      "27/27 [==============================] - 13s 464ms/step - loss: 30.0744 - accuracy: 0.3466 - val_loss: 30.3821 - val_accuracy: 0.3357\n",
      "Epoch 41/50\n",
      "27/27 [==============================] - 14s 536ms/step - loss: 30.1045 - accuracy: 0.3396 - val_loss: 30.4525 - val_accuracy: 0.3191\n",
      "Epoch 42/50\n",
      "27/27 [==============================] - 14s 534ms/step - loss: 30.1131 - accuracy: 0.3337 - val_loss: 30.4078 - val_accuracy: 0.3191\n",
      "Epoch 43/50\n",
      "27/27 [==============================] - 13s 463ms/step - loss: 30.1001 - accuracy: 0.3291 - val_loss: 30.4212 - val_accuracy: 0.3191\n",
      "Epoch 44/50\n",
      "27/27 [==============================] - 14s 533ms/step - loss: 30.0981 - accuracy: 0.3279 - val_loss: 30.4082 - val_accuracy: 0.3191\n",
      "Epoch 45/50\n",
      "27/27 [==============================] - 15s 540ms/step - loss: 30.1144 - accuracy: 0.3314 - val_loss: 30.4273 - val_accuracy: 0.3191\n",
      "Epoch 46/50\n",
      "27/27 [==============================] - 13s 472ms/step - loss: 30.1109 - accuracy: 0.3302 - val_loss: 30.4219 - val_accuracy: 0.3191\n",
      "Epoch 47/50\n",
      "27/27 [==============================] - 15s 541ms/step - loss: 30.1132 - accuracy: 0.3349 - val_loss: 30.4149 - val_accuracy: 0.3191\n",
      "Epoch 48/50\n",
      "27/27 [==============================] - 15s 540ms/step - loss: 30.0952 - accuracy: 0.3384 - val_loss: 30.3994 - val_accuracy: 0.3191\n",
      "Epoch 49/50\n",
      "27/27 [==============================] - 13s 489ms/step - loss: 30.0846 - accuracy: 0.3302 - val_loss: 30.4021 - val_accuracy: 0.3191\n",
      "Epoch 50/50\n",
      "27/27 [==============================] - 14s 507ms/step - loss: 30.0946 - accuracy: 0.3407 - val_loss: 30.4050 - val_accuracy: 0.3191\n"
     ]
    }
   ],
   "source": [
    "history = model.fit(x_train, y_train, validation_data=(x_test,y_test), epochs = 50)\n",
    "#score, acc = model.evaluate(x_test, y_test)"
   ]
  },
  {
   "cell_type": "code",
   "execution_count": null,
   "id": "08833c79",
   "metadata": {},
   "outputs": [],
   "source": []
  }
 ],
 "metadata": {
  "kernelspec": {
   "display_name": "Python 3",
   "language": "python",
   "name": "python3"
  },
  "language_info": {
   "codemirror_mode": {
    "name": "ipython",
    "version": 3
   },
   "file_extension": ".py",
   "mimetype": "text/x-python",
   "name": "python",
   "nbconvert_exporter": "python",
   "pygments_lexer": "ipython3",
   "version": "3.7.10"
  }
 },
 "nbformat": 4,
 "nbformat_minor": 5
}
