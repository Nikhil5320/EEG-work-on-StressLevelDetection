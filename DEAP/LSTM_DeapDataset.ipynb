{
 "cells": [
  {
   "cell_type": "code",
   "execution_count": 1,
   "id": "06f5d350",
   "metadata": {},
   "outputs": [],
   "source": [
    "import numpy\n",
    "import matplotlib.pyplot as plt\n",
    "import pandas as pd\n",
    "import numpy as np\n",
    "import json"
   ]
  },
  {
   "cell_type": "code",
   "execution_count": 2,
   "id": "9de29fed",
   "metadata": {},
   "outputs": [],
   "source": [
    "from keras.models import Sequential\n",
    "from keras.layers import Dense\n",
    "from keras.layers import LSTM\n",
    "from sklearn.model_selection import train_test_split"
   ]
  },
  {
   "cell_type": "code",
   "execution_count": 3,
   "id": "f9d98977",
   "metadata": {},
   "outputs": [],
   "source": [
    "subjects = ['01','02','03','04','05','06','07','08','09','10','11','12','13','14','15','16','17','18','19','20','21','22','23','24','25','26','27','28','29','30','31','32']"
   ]
  },
  {
   "cell_type": "code",
   "execution_count": 4,
   "id": "fe0e1ecf",
   "metadata": {},
   "outputs": [
    {
     "name": "stdout",
     "output_type": "stream",
     "text": [
      "01\n",
      "02\n",
      "03\n",
      "04\n",
      "05\n",
      "06\n",
      "07\n",
      "08\n",
      "09\n",
      "10\n",
      "11\n",
      "12\n",
      "13\n",
      "14\n",
      "15\n",
      "16\n",
      "17\n",
      "18\n",
      "19\n",
      "20\n",
      "21\n",
      "22\n",
      "23\n",
      "24\n",
      "25\n",
      "26\n",
      "27\n",
      "28\n",
      "29\n",
      "30\n",
      "31\n",
      "32\n"
     ]
    }
   ],
   "source": [
    "dicty = {'labels':[]}\n",
    "x = []\n",
    "for i in subjects:\n",
    "    d = open('data_preprocessed_python/data_json/'+i)\n",
    "    d = json.load(d)\n",
    "    if(i == '01'):\n",
    "        x = numpy.array(d['data'])\n",
    "    else:\n",
    "        x = numpy.concatenate((x, numpy.array(d['data'])), axis=0)\n",
    "    dicty['labels'] += d['labels']\n",
    "    print(i)"
   ]
  },
  {
   "cell_type": "code",
   "execution_count": 5,
   "id": "382fc7ed",
   "metadata": {},
   "outputs": [
    {
     "name": "stdout",
     "output_type": "stream",
     "text": [
      "(1280, 40, 8064) (1280, 10)\n"
     ]
    }
   ],
   "source": [
    "y =[]\n",
    "for i in dicty['labels']:\n",
    "    temp = [0]*10\n",
    "    temp[int(i[1])-1] = 1\n",
    "    y.append(temp)\n",
    "y = numpy.array(y)\n",
    "print(x.shape, y.shape)"
   ]
  },
  {
   "cell_type": "code",
   "execution_count": 6,
   "id": "8eb6532c",
   "metadata": {},
   "outputs": [],
   "source": [
    "x_train, x_test, y_train, y_test = train_test_split(x, y, test_size=0.33)"
   ]
  },
  {
   "cell_type": "code",
   "execution_count": 7,
   "id": "52f5e4ac",
   "metadata": {},
   "outputs": [
    {
     "name": "stdout",
     "output_type": "stream",
     "text": [
      "(857, 40, 8064) (423, 40, 8064) (857, 10) (423, 10)\n"
     ]
    }
   ],
   "source": [
    "print(x_train.shape, x_test.shape, y_train.shape, y_test.shape)"
   ]
  },
  {
   "cell_type": "code",
   "execution_count": 8,
   "id": "98464c2d",
   "metadata": {},
   "outputs": [],
   "source": [
    "import tensorflow as tf\n",
    "from tensorflow.keras import Sequential\n",
    "\n",
    "from tensorflow.keras.layers import Dense, Dropout\n",
    "from tensorflow.keras.layers import Embedding\n",
    "from tensorflow.keras.layers import LSTM\n",
    "tf.keras.backend.clear_session()"
   ]
  },
  {
   "cell_type": "code",
   "execution_count": 11,
   "id": "5282c922",
   "metadata": {},
   "outputs": [
    {
     "name": "stdout",
     "output_type": "stream",
     "text": [
      "Model: \"sequential_2\"\n",
      "_________________________________________________________________\n",
      "Layer (type)                 Output Shape              Param #   \n",
      "=================================================================\n",
      "lstm_4 (LSTM)                (None, 40, 128)           4194816   \n",
      "_________________________________________________________________\n",
      "dropout_4 (Dropout)          (None, 40, 128)           0         \n",
      "_________________________________________________________________\n",
      "lstm_5 (LSTM)                (None, 128)               131584    \n",
      "_________________________________________________________________\n",
      "dropout_5 (Dropout)          (None, 128)               0         \n",
      "_________________________________________________________________\n",
      "dense_2 (Dense)              (None, 10)                1290      \n",
      "=================================================================\n",
      "Total params: 4,327,690\n",
      "Trainable params: 4,327,690\n",
      "Non-trainable params: 0\n",
      "_________________________________________________________________\n"
     ]
    }
   ],
   "source": [
    "model = Sequential()\n",
    "model.add(LSTM(128, input_shape=(40,8064),activation=\"relu\",return_sequences=True))\n",
    "model.add(Dropout(0.2))\n",
    "model.add(LSTM(128, activation='relu'))\n",
    "model.add(Dropout(0.2))\n",
    "model.add(Dense(10, activation='softmax'))\n",
    "from keras.optimizers import SGD\n",
    "model.compile(loss = 'categorical_crossentropy', optimizer = \"adam\", metrics = ['accuracy'])\n",
    "model.summary()"
   ]
  },
  {
   "cell_type": "code",
   "execution_count": 12,
   "id": "86fde04d",
   "metadata": {},
   "outputs": [
    {
     "name": "stdout",
     "output_type": "stream",
     "text": [
      "EEG recordings of all 40 channels when the first video is played :\n",
      " [[ 9.48231681e-01  1.65333533e+00  3.01372577e+00 ... -2.82648937e+00\n",
      "  -4.47722969e+00 -3.67692812e+00]\n",
      " [ 1.24706590e-01  1.39008270e+00  1.83509881e+00 ... -2.98702069e+00\n",
      "  -6.28780884e+00 -4.47429041e+00]\n",
      " [-2.21651099e+00  2.29201682e+00  2.74636923e+00 ... -2.63707760e+00\n",
      "  -7.40651010e+00 -6.75590441e+00]\n",
      " ...\n",
      " [ 2.30779684e+02  6.96716323e+02  1.19512165e+03 ...  1.01080949e+03\n",
      "   1.28312149e+03  1.51996480e+03]\n",
      " [-1.54180981e+03 -1.61798052e+03 -1.69268642e+03 ... -1.57842691e+04\n",
      "  -1.57823160e+04 -1.57808512e+04]\n",
      " [ 6.39054310e-03  6.39054310e-03  6.39054310e-03 ... -9.76081241e-02\n",
      "  -9.76081241e-02 -9.76081241e-02]]\n",
      "\n",
      "Readings(valence, arousal, dominance, liking) for the First video :  [0 0 0 0 0 0 1 0 0 0]\n"
     ]
    }
   ],
   "source": [
    "print(\"EEG recordings of all 40 channels when the first video is played :\\n\",x[0])\n",
    "print(\"\\nReadings(valence, arousal, dominance, liking) for the First video : \",y[0])"
   ]
  },
  {
   "cell_type": "code",
   "execution_count": 13,
   "id": "5ffd8716",
   "metadata": {
    "scrolled": true
   },
   "outputs": [
    {
     "name": "stdout",
     "output_type": "stream",
     "text": [
      "Epoch 1/100\n",
      "27/27 [==============================] - 55s 2s/step - loss: 49962.8281 - accuracy: 0.1529 - val_loss: 40574.4414 - val_accuracy: 0.2175\n",
      "Epoch 2/100\n",
      "27/27 [==============================] - 26s 955ms/step - loss: 46868.4609 - accuracy: 0.2719 - val_loss: 13844.9062 - val_accuracy: 0.4421\n",
      "Epoch 3/100\n",
      "27/27 [==============================] - 27s 1s/step - loss: 40601.2891 - accuracy: 0.2999 - val_loss: 20404.0156 - val_accuracy: 0.5130\n",
      "Epoch 4/100\n",
      "27/27 [==============================] - 28s 1s/step - loss: 29036.2500 - accuracy: 0.4084 - val_loss: 16013.7969 - val_accuracy: 0.3546\n",
      "Epoch 5/100\n",
      "27/27 [==============================] - 33s 1s/step - loss: 27884.8379 - accuracy: 0.3804 - val_loss: 12767.6406 - val_accuracy: 0.5106\n",
      "Epoch 6/100\n",
      "27/27 [==============================] - 30s 1s/step - loss: 25474.1562 - accuracy: 0.4376 - val_loss: 12327.1240 - val_accuracy: 0.4657\n",
      "Epoch 7/100\n",
      "27/27 [==============================] - 28s 1s/step - loss: 16230.4727 - accuracy: 0.4609 - val_loss: 10384.9053 - val_accuracy: 0.5390\n",
      "Epoch 8/100\n",
      "27/27 [==============================] - 29s 1s/step - loss: 16542.5957 - accuracy: 0.4574 - val_loss: 15546.3652 - val_accuracy: 0.5154\n",
      "Epoch 9/100\n",
      "27/27 [==============================] - 28s 1s/step - loss: 19075.6348 - accuracy: 0.4166 - val_loss: 4295.7583 - val_accuracy: 0.5697\n",
      "Epoch 10/100\n",
      "27/27 [==============================] - 30s 1s/step - loss: 13744.4746 - accuracy: 0.4527 - val_loss: 8847.8398 - val_accuracy: 0.4539\n",
      "Epoch 11/100\n",
      "27/27 [==============================] - 28s 1s/step - loss: 10528.2236 - accuracy: 0.4271 - val_loss: 2053.6997 - val_accuracy: 0.5745\n",
      "Epoch 12/100\n",
      "27/27 [==============================] - 29s 1s/step - loss: 7927.6250 - accuracy: 0.4819 - val_loss: 2016.9431 - val_accuracy: 0.6407\n",
      "Epoch 13/100\n",
      "27/27 [==============================] - 29s 1s/step - loss: 5302.5859 - accuracy: 0.5181 - val_loss: 380.6663 - val_accuracy: 0.7636\n",
      "Epoch 14/100\n",
      "27/27 [==============================] - 28s 1s/step - loss: 5252.4346 - accuracy: 0.4749 - val_loss: 1165.9039 - val_accuracy: 0.5957\n",
      "Epoch 15/100\n",
      "27/27 [==============================] - 29s 1s/step - loss: 6156.7188 - accuracy: 0.4667 - val_loss: 1193.3750 - val_accuracy: 0.6265\n",
      "Epoch 16/100\n",
      "27/27 [==============================] - 30s 1s/step - loss: 6437.4976 - accuracy: 0.4621 - val_loss: 1567.6270 - val_accuracy: 0.5201\n",
      "Epoch 17/100\n",
      "27/27 [==============================] - 28s 1s/step - loss: 4753.4502 - accuracy: 0.4492 - val_loss: 625.8330 - val_accuracy: 0.6879\n",
      "Epoch 18/100\n",
      "27/27 [==============================] - 29s 1s/step - loss: 5675.1143 - accuracy: 0.4446 - val_loss: 1188.2371 - val_accuracy: 0.5201\n",
      "Epoch 19/100\n",
      "27/27 [==============================] - 28s 1s/step - loss: 5182.3955 - accuracy: 0.3886 - val_loss: 1823.9500 - val_accuracy: 0.4468\n",
      "Epoch 20/100\n",
      "27/27 [==============================] - 29s 1s/step - loss: 6201.4370 - accuracy: 0.3501 - val_loss: 2010.4901 - val_accuracy: 0.3310\n",
      "Epoch 21/100\n",
      "27/27 [==============================] - 27s 1s/step - loss: 4560.6030 - accuracy: 0.3396 - val_loss: 2442.6169 - val_accuracy: 0.2388\n",
      "Epoch 22/100\n",
      "27/27 [==============================] - 28s 1s/step - loss: 21530.3691 - accuracy: 0.2322 - val_loss: 2778.2314 - val_accuracy: 0.3499\n",
      "Epoch 23/100\n",
      "27/27 [==============================] - 28s 1s/step - loss: 4951.1509 - accuracy: 0.2695 - val_loss: 207.2605 - val_accuracy: 0.2506\n",
      "Epoch 24/100\n",
      "27/27 [==============================] - 27s 1s/step - loss: 4137.9048 - accuracy: 0.2310 - val_loss: 19.1445 - val_accuracy: 0.2506\n",
      "Epoch 25/100\n",
      "27/27 [==============================] - 27s 1s/step - loss: 3330.8176 - accuracy: 0.2275 - val_loss: 2.7287 - val_accuracy: 0.2955\n",
      "Epoch 26/100\n",
      "27/27 [==============================] - 28s 1s/step - loss: 1414.7655 - accuracy: 0.2964 - val_loss: 29.0790 - val_accuracy: 0.2861\n",
      "Epoch 27/100\n",
      "27/27 [==============================] - 28s 1s/step - loss: 630.3111 - accuracy: 0.2894 - val_loss: 150.4265 - val_accuracy: 0.2411\n",
      "Epoch 28/100\n",
      "27/27 [==============================] - 28s 1s/step - loss: 1113.0441 - accuracy: 0.2999 - val_loss: 25.3513 - val_accuracy: 0.3026\n",
      "Epoch 29/100\n",
      "27/27 [==============================] - 27s 1s/step - loss: 1046.8055 - accuracy: 0.2812 - val_loss: 169.8738 - val_accuracy: 0.3262\n",
      "Epoch 30/100\n",
      "27/27 [==============================] - 28s 1s/step - loss: 1755.4208 - accuracy: 0.2812 - val_loss: 147.0741 - val_accuracy: 0.1584\n",
      "Epoch 31/100\n",
      "27/27 [==============================] - 28s 1s/step - loss: 1851.4517 - accuracy: 0.2602 - val_loss: 51.7386 - val_accuracy: 0.1726\n",
      "Epoch 32/100\n",
      "27/27 [==============================] - 26s 971ms/step - loss: 1456.5916 - accuracy: 0.2334 - val_loss: 4.0780 - val_accuracy: 0.1537\n",
      "Epoch 33/100\n",
      "27/27 [==============================] - 28s 1s/step - loss: 594.9739 - accuracy: 0.2252 - val_loss: 6.0886 - val_accuracy: 0.1986\n",
      "Epoch 34/100\n",
      "27/27 [==============================] - 27s 1s/step - loss: 175.1668 - accuracy: 0.2205 - val_loss: 2.6374 - val_accuracy: 0.2908\n",
      "Epoch 35/100\n",
      "27/27 [==============================] - 28s 1s/step - loss: 178.6588 - accuracy: 0.2777 - val_loss: 2.5998 - val_accuracy: 0.3168\n",
      "Epoch 36/100\n",
      "27/27 [==============================] - 28s 1s/step - loss: 137.9038 - accuracy: 0.2777 - val_loss: 2.9448 - val_accuracy: 0.2955\n",
      "Epoch 37/100\n",
      "27/27 [==============================] - 28s 1s/step - loss: 638.3967 - accuracy: 0.3081 - val_loss: 3.0357 - val_accuracy: 0.2742\n",
      "Epoch 38/100\n",
      "27/27 [==============================] - 29s 1s/step - loss: 251.9551 - accuracy: 0.2929 - val_loss: 2.7116 - val_accuracy: 0.2695\n",
      "Epoch 39/100\n",
      "27/27 [==============================] - 28s 1s/step - loss: 133.5595 - accuracy: 0.2637 - val_loss: 3.2069 - val_accuracy: 0.2388\n",
      "Epoch 40/100\n",
      "27/27 [==============================] - 28s 1s/step - loss: 107.3797 - accuracy: 0.2730 - val_loss: 2.2545 - val_accuracy: 0.2600\n",
      "Epoch 41/100\n",
      "27/27 [==============================] - 27s 1s/step - loss: 70.1148 - accuracy: 0.2299 - val_loss: 2.3291 - val_accuracy: 0.2340\n",
      "Epoch 42/100\n",
      "27/27 [==============================] - 27s 997ms/step - loss: 160.8960 - accuracy: 0.2707 - val_loss: 14.5947 - val_accuracy: 0.2340\n",
      "Epoch 43/100\n",
      "27/27 [==============================] - 28s 1s/step - loss: 64.3747 - accuracy: 0.2882 - val_loss: 2.2637 - val_accuracy: 0.3593\n",
      "Epoch 44/100\n",
      "27/27 [==============================] - 28s 1s/step - loss: 43.4336 - accuracy: 0.2999 - val_loss: 2.2650 - val_accuracy: 0.3570\n",
      "Epoch 45/100\n",
      "27/27 [==============================] - 29s 1s/step - loss: 122.0779 - accuracy: 0.2404 - val_loss: 2.2703 - val_accuracy: 0.3002\n",
      "Epoch 46/100\n",
      "27/27 [==============================] - 27s 988ms/step - loss: 99.6644 - accuracy: 0.2684 - val_loss: 2.2612 - val_accuracy: 0.3097\n",
      "Epoch 47/100\n",
      "27/27 [==============================] - 29s 1s/step - loss: 19.8291 - accuracy: 0.2730 - val_loss: 2.6982 - val_accuracy: 0.4090\n",
      "Epoch 48/100\n",
      "27/27 [==============================] - 28s 1s/step - loss: 113.7226 - accuracy: 0.3489 - val_loss: 2.7311 - val_accuracy: 0.3546\n",
      "Epoch 49/100\n",
      "27/27 [==============================] - 28s 1s/step - loss: 217.8540 - accuracy: 0.2742 - val_loss: 3.0383 - val_accuracy: 0.3239\n",
      "Epoch 50/100\n",
      "27/27 [==============================] - 29s 1s/step - loss: 11.1458 - accuracy: 0.2602 - val_loss: 3.0024 - val_accuracy: 0.3050\n",
      "Epoch 51/100\n",
      "27/27 [==============================] - 27s 1s/step - loss: 46.1276 - accuracy: 0.2462 - val_loss: 2.4913 - val_accuracy: 0.3688\n",
      "Epoch 52/100\n",
      "27/27 [==============================] - 29s 1s/step - loss: 204.4329 - accuracy: 0.2520 - val_loss: 2.4225 - val_accuracy: 0.3641\n",
      "Epoch 53/100\n",
      "27/27 [==============================] - 28s 1s/step - loss: 204.8846 - accuracy: 0.2672 - val_loss: 2.4084 - val_accuracy: 0.3262\n",
      "Epoch 54/100\n",
      "27/27 [==============================] - 27s 1s/step - loss: 119.1086 - accuracy: 0.3057 - val_loss: 2.4146 - val_accuracy: 0.3262\n",
      "Epoch 55/100\n",
      "27/27 [==============================] - 29s 1s/step - loss: 49.9659 - accuracy: 0.2520 - val_loss: 2.8816 - val_accuracy: 0.2861\n",
      "Epoch 56/100\n",
      "27/27 [==============================] - 27s 1s/step - loss: 26.5849 - accuracy: 0.2905 - val_loss: 2.7092 - val_accuracy: 0.3050\n",
      "Epoch 57/100\n"
     ]
    },
    {
     "name": "stdout",
     "output_type": "stream",
     "text": [
      "27/27 [==============================] - 29s 1s/step - loss: 100.1908 - accuracy: 0.2684 - val_loss: 2.3748 - val_accuracy: 0.3262\n",
      "Epoch 58/100\n",
      "27/27 [==============================] - 28s 1s/step - loss: 5.5039 - accuracy: 0.2824 - val_loss: 2.7370 - val_accuracy: 0.3050\n",
      "Epoch 59/100\n",
      "27/27 [==============================] - 29s 1s/step - loss: 64.7346 - accuracy: 0.2894 - val_loss: 2.3777 - val_accuracy: 0.3262\n",
      "Epoch 60/100\n",
      "27/27 [==============================] - 28s 1s/step - loss: 14.4432 - accuracy: 0.3151 - val_loss: 2.3693 - val_accuracy: 0.3522\n",
      "Epoch 61/100\n",
      "27/27 [==============================] - 27s 1s/step - loss: 40.6090 - accuracy: 0.2824 - val_loss: 2.3756 - val_accuracy: 0.3333\n",
      "Epoch 62/100\n",
      "27/27 [==============================] - 29s 1s/step - loss: 27.3661 - accuracy: 0.2730 - val_loss: 2.3771 - val_accuracy: 0.3499\n",
      "Epoch 63/100\n",
      "27/27 [==============================] - 28s 1s/step - loss: 17.8199 - accuracy: 0.2917 - val_loss: 2.4293 - val_accuracy: 0.3286\n",
      "Epoch 64/100\n",
      "27/27 [==============================] - 29s 1s/step - loss: 62.6501 - accuracy: 0.2987 - val_loss: 2.3573 - val_accuracy: 0.3688\n",
      "Epoch 65/100\n",
      "27/27 [==============================] - 29s 1s/step - loss: 39.1638 - accuracy: 0.2929 - val_loss: 2.3572 - val_accuracy: 0.3688\n",
      "Epoch 66/100\n",
      "27/27 [==============================] - 27s 1s/step - loss: 42.8155 - accuracy: 0.3326 - val_loss: 2.3473 - val_accuracy: 0.3688\n",
      "Epoch 67/100\n",
      "27/27 [==============================] - 29s 1s/step - loss: 1045.8689 - accuracy: 0.3466 - val_loss: 2.3518 - val_accuracy: 0.3428\n",
      "Epoch 68/100\n",
      "27/27 [==============================] - 28s 1s/step - loss: 9.4161 - accuracy: 0.3314 - val_loss: 2.3371 - val_accuracy: 0.3475\n",
      "Epoch 69/100\n",
      "27/27 [==============================] - 28s 1s/step - loss: 14.5810 - accuracy: 0.3186 - val_loss: 2.2827 - val_accuracy: 0.3688\n",
      "Epoch 70/100\n",
      "27/27 [==============================] - 29s 1s/step - loss: 7.3395 - accuracy: 0.3547 - val_loss: 2.2739 - val_accuracy: 0.3688\n",
      "Epoch 71/100\n",
      "27/27 [==============================] - 27s 1s/step - loss: 49.8066 - accuracy: 0.3279 - val_loss: 2.2815 - val_accuracy: 0.3499\n",
      "Epoch 72/100\n",
      "27/27 [==============================] - 29s 1s/step - loss: 65.9079 - accuracy: 0.3127 - val_loss: 2.1577 - val_accuracy: 0.3688\n",
      "Epoch 73/100\n",
      "27/27 [==============================] - 28s 1s/step - loss: 142.5165 - accuracy: 0.3162 - val_loss: 2.1031 - val_accuracy: 0.3688\n",
      "Epoch 74/100\n",
      "27/27 [==============================] - 28s 1s/step - loss: 15.8507 - accuracy: 0.2999 - val_loss: 2.1247 - val_accuracy: 0.3475\n",
      "Epoch 75/100\n",
      "27/27 [==============================] - 29s 1s/step - loss: 29.7776 - accuracy: 0.2999 - val_loss: 2.1111 - val_accuracy: 0.3215\n",
      "Epoch 76/100\n",
      "27/27 [==============================] - 27s 1s/step - loss: 29.4394 - accuracy: 0.3454 - val_loss: 2.0120 - val_accuracy: 0.3712\n",
      "Epoch 77/100\n",
      "27/27 [==============================] - 29s 1s/step - loss: 25.2775 - accuracy: 0.3069 - val_loss: 2.4051 - val_accuracy: 0.3499\n",
      "Epoch 78/100\n",
      "27/27 [==============================] - 28s 1s/step - loss: 42.0894 - accuracy: 0.3139 - val_loss: 2.0882 - val_accuracy: 0.3712\n",
      "Epoch 79/100\n",
      "27/27 [==============================] - 29s 1s/step - loss: 82.9867 - accuracy: 0.3279 - val_loss: 2.0522 - val_accuracy: 0.3972\n",
      "Epoch 80/100\n",
      "27/27 [==============================] - 27s 1s/step - loss: 40.5004 - accuracy: 0.3197 - val_loss: 2.0851 - val_accuracy: 0.3712\n",
      "Epoch 81/100\n",
      "27/27 [==============================] - 29s 1s/step - loss: 120.4914 - accuracy: 0.3442 - val_loss: 2.0014 - val_accuracy: 0.4043\n",
      "Epoch 82/100\n",
      "27/27 [==============================] - 28s 1s/step - loss: 107.9136 - accuracy: 0.3326 - val_loss: 2.0687 - val_accuracy: 0.3712\n",
      "Epoch 83/100\n",
      "27/27 [==============================] - 30s 1s/step - loss: 71.7127 - accuracy: 0.3536 - val_loss: 2.0608 - val_accuracy: 0.3712\n",
      "Epoch 84/100\n",
      "27/27 [==============================] - 30s 1s/step - loss: 49.5712 - accuracy: 0.3116 - val_loss: 2.1794 - val_accuracy: 0.3499\n",
      "Epoch 85/100\n",
      "27/27 [==============================] - 28s 1s/step - loss: 105.6127 - accuracy: 0.3139 - val_loss: 2.2831 - val_accuracy: 0.3499\n",
      "Epoch 86/100\n",
      "27/27 [==============================] - 29s 1s/step - loss: 101.9354 - accuracy: 0.3291 - val_loss: 2.0357 - val_accuracy: 0.3759\n",
      "Epoch 87/100\n",
      "27/27 [==============================] - 28s 1s/step - loss: 18.3077 - accuracy: 0.3617 - val_loss: 1.9924 - val_accuracy: 0.4019\n",
      "Epoch 88/100\n",
      "27/27 [==============================] - 29s 1s/step - loss: 27.2904 - accuracy: 0.3442 - val_loss: 1.9894 - val_accuracy: 0.4019\n",
      "Epoch 89/100\n",
      "27/27 [==============================] - 29s 1s/step - loss: 106.6444 - accuracy: 0.3431 - val_loss: 2.0971 - val_accuracy: 0.3428\n",
      "Epoch 90/100\n",
      "27/27 [==============================] - 28s 1s/step - loss: 5.0485 - accuracy: 0.3489 - val_loss: 2.0270 - val_accuracy: 0.3759\n",
      "Epoch 91/100\n",
      "27/27 [==============================] - 28s 1s/step - loss: 27.5251 - accuracy: 0.3337 - val_loss: 1.9835 - val_accuracy: 0.4255\n",
      "Epoch 92/100\n",
      "27/27 [==============================] - 27s 988ms/step - loss: 51.7671 - accuracy: 0.3559 - val_loss: 2.0300 - val_accuracy: 0.3664\n",
      "Epoch 93/100\n",
      "27/27 [==============================] - 28s 1s/step - loss: 20.4752 - accuracy: 0.3571 - val_loss: 1.9963 - val_accuracy: 0.4184\n",
      "Epoch 94/100\n",
      "27/27 [==============================] - 27s 991ms/step - loss: 83.4750 - accuracy: 0.3501 - val_loss: 1.4213 - val_accuracy: 0.3853\n",
      "Epoch 95/100\n",
      "27/27 [==============================] - 27s 999ms/step - loss: 16.3818 - accuracy: 0.3559 - val_loss: 1.9870 - val_accuracy: 0.4184\n",
      "Epoch 96/100\n",
      "27/27 [==============================] - 27s 1s/step - loss: 27.4164 - accuracy: 0.3582 - val_loss: 1.9927 - val_accuracy: 0.4184\n",
      "Epoch 97/100\n",
      "27/27 [==============================] - 27s 986ms/step - loss: 12.3437 - accuracy: 0.3676 - val_loss: 2.1109 - val_accuracy: 0.3972\n",
      "Epoch 98/100\n",
      "27/27 [==============================] - 28s 1s/step - loss: 46.6830 - accuracy: 0.3372 - val_loss: 1.9959 - val_accuracy: 0.4184\n",
      "Epoch 99/100\n",
      "27/27 [==============================] - 27s 986ms/step - loss: 69.3327 - accuracy: 0.3477 - val_loss: 1.3307 - val_accuracy: 0.4468\n",
      "Epoch 100/100\n",
      "27/27 [==============================] - 27s 1s/step - loss: 63.2836 - accuracy: 0.3617 - val_loss: 1.3314 - val_accuracy: 0.4184\n"
     ]
    }
   ],
   "source": [
    "history = model.fit(x_train, y_train, validation_data=(x_test,y_test), epochs = 100)\n",
    "#score, acc = model.evaluate(x_test, y_test)"
   ]
  },
  {
   "cell_type": "code",
   "execution_count": 14,
   "id": "08833c79",
   "metadata": {},
   "outputs": [],
   "source": [
    "test = model.predict(x_test) "
   ]
  },
  {
   "cell_type": "code",
   "execution_count": 15,
   "id": "f649c648",
   "metadata": {},
   "outputs": [
    {
     "name": "stdout",
     "output_type": "stream",
     "text": [
      "0.9999999739229679 [0.01554949 0.1869744  0.24393572 0.03847051 0.01607097 0.12508975\n",
      " 0.20790453 0.13804929 0.0138583  0.01409701] [0 0 0 0 0 0 1 0 0 0]\n"
     ]
    }
   ],
   "source": [
    "print(sum(test[0]), test[0], y_test[0])"
   ]
  },
  {
   "cell_type": "code",
   "execution_count": 16,
   "id": "a4cbbfb3",
   "metadata": {},
   "outputs": [
    {
     "name": "stdout",
     "output_type": "stream",
     "text": [
      "(423,)\n",
      "(423,)\n",
      "Training Accuracy: 0.41843971631205673\n"
     ]
    }
   ],
   "source": [
    "from sklearn.metrics import accuracy_score\n",
    "pred = model.predict(x_test)\n",
    "predict_classes = np.argmax(pred,axis=1)\n",
    "expected_classes = np.argmax(y_test,axis=1)\n",
    "print(expected_classes.shape)\n",
    "print(predict_classes.shape)\n",
    "correct = accuracy_score(expected_classes,predict_classes)\n",
    "print(f\"Training Accuracy: {correct}\")"
   ]
  },
  {
   "cell_type": "code",
   "execution_count": 17,
   "id": "de311848",
   "metadata": {},
   "outputs": [
    {
     "name": "stdout",
     "output_type": "stream",
     "text": [
      "WARNING:tensorflow:From C:\\Users\\Revanna\\anaconda3\\envs\\tensorflow\\lib\\site-packages\\tensorflow\\python\\training\\tracking\\tracking.py:111: Model.state_updates (from tensorflow.python.keras.engine.training) is deprecated and will be removed in a future version.\n",
      "Instructions for updating:\n",
      "This property should not be used in TensorFlow 2.0, as updates are applied automatically.\n",
      "WARNING:tensorflow:From C:\\Users\\Revanna\\anaconda3\\envs\\tensorflow\\lib\\site-packages\\tensorflow\\python\\training\\tracking\\tracking.py:111: Layer.updates (from tensorflow.python.keras.engine.base_layer) is deprecated and will be removed in a future version.\n",
      "Instructions for updating:\n",
      "This property should not be used in TensorFlow 2.0, as updates are applied automatically.\n",
      "INFO:tensorflow:Assets written to: LSTM_DeapDataset_SavedModel\\assets\n"
     ]
    }
   ],
   "source": [
    "model.save(\"LSTM_DeapDataset_SavedModel\")"
   ]
  },
  {
   "cell_type": "code",
   "execution_count": 18,
   "id": "9edf85a8",
   "metadata": {},
   "outputs": [],
   "source": [
    "converter = tf.lite.TFLiteConverter.from_saved_model(\"LSTM_DeapDataset_SavedModel\")\n",
    "tflite_model = converter.convert()\n",
    "\n",
    "# Save the model in tflite format.\n",
    "with open('LSTM_DeapDataset_model.tflite', 'wb') as f:\n",
    "    f.write(tflite_model)"
   ]
  },
  {
   "cell_type": "code",
   "execution_count": null,
   "id": "3ad47112",
   "metadata": {},
   "outputs": [],
   "source": []
  }
 ],
 "metadata": {
  "kernelspec": {
   "display_name": "Python 3",
   "language": "python",
   "name": "python3"
  },
  "language_info": {
   "codemirror_mode": {
    "name": "ipython",
    "version": 3
   },
   "file_extension": ".py",
   "mimetype": "text/x-python",
   "name": "python",
   "nbconvert_exporter": "python",
   "pygments_lexer": "ipython3",
   "version": "3.7.10"
  }
 },
 "nbformat": 4,
 "nbformat_minor": 5
}
