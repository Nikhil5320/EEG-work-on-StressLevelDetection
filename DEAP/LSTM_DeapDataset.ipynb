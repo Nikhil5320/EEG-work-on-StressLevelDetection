{
 "cells": [
  {
   "cell_type": "code",
   "execution_count": 1,
   "id": "06f5d350",
   "metadata": {},
   "outputs": [],
   "source": [
    "import numpy\n",
    "import matplotlib.pyplot as plt\n",
    "import pandas as pd\n",
    "import numpy as np\n",
    "import json"
   ]
  },
  {
   "cell_type": "code",
   "execution_count": 3,
   "id": "9de29fed",
   "metadata": {},
   "outputs": [],
   "source": [
    "\n",
    "from keras.models import Sequential\n",
    "from keras.layers import Dense\n",
    "from keras.layers import LSTM\n",
    "from sklearn.model_selection import train_test_split\n",
    "\n",
    "from keras import layers"
   ]
  },
  {
   "cell_type": "code",
   "execution_count": 4,
   "id": "f9d98977",
   "metadata": {},
   "outputs": [],
   "source": [
    "subjects = ['01','02','03','04','05','06','07','08','09','10','11','12','13','14','15','16','17','18','19','20','21','22','23','24','25','26','27','28','29','30']"
   ]
  },
  {
   "cell_type": "code",
   "execution_count": 5,
   "id": "fe0e1ecf",
   "metadata": {},
   "outputs": [
    {
     "name": "stdout",
     "output_type": "stream",
     "text": [
      "01\n",
      "02\n",
      "03\n",
      "04\n",
      "05\n",
      "06\n",
      "07\n",
      "08\n",
      "09\n",
      "10\n",
      "11\n",
      "12\n",
      "13\n",
      "14\n",
      "15\n",
      "16\n",
      "17\n",
      "18\n",
      "19\n",
      "20\n",
      "21\n",
      "22\n",
      "23\n",
      "24\n",
      "25\n",
      "26\n",
      "27\n",
      "28\n",
      "29\n",
      "30\n"
     ]
    }
   ],
   "source": [
    "dicty = {'labels':[]}\n",
    "x = []\n",
    "for i in subjects:\n",
    "    d = open('data_preprocessed_python/data_json/'+i)\n",
    "    d = json.load(d)\n",
    "    if(i == '01'):\n",
    "        x = numpy.array(d['data'])\n",
    "    else:\n",
    "        x = numpy.concatenate((x, numpy.array(d['data'])), axis=0)\n",
    "    dicty['labels'] += d['labels']\n",
    "    print(i)"
   ]
  },
  {
   "cell_type": "code",
   "execution_count": 6,
   "id": "716ab0b7",
   "metadata": {},
   "outputs": [
    {
     "data": {
      "text/plain": [
       "array([[[ 9.48231681e-01,  1.65333533e+00,  3.01372577e+00, ...,\n",
       "         -2.82648937e+00, -4.47722969e+00, -3.67692812e+00],\n",
       "        [ 1.24706590e-01,  1.39008270e+00,  1.83509881e+00, ...,\n",
       "         -2.98702069e+00, -6.28780884e+00, -4.47429041e+00],\n",
       "        [-2.21651099e+00,  2.29201682e+00,  2.74636923e+00, ...,\n",
       "         -2.63707760e+00, -7.40651010e+00, -6.75590441e+00],\n",
       "        ...,\n",
       "        [ 2.30779684e+02,  6.96716323e+02,  1.19512165e+03, ...,\n",
       "          1.01080949e+03,  1.28312149e+03,  1.51996480e+03],\n",
       "        [-1.54180981e+03, -1.61798052e+03, -1.69268642e+03, ...,\n",
       "         -1.57842691e+04, -1.57823160e+04, -1.57808512e+04],\n",
       "        [ 6.39054310e-03,  6.39054310e-03,  6.39054310e-03, ...,\n",
       "         -9.76081241e-02, -9.76081241e-02, -9.76081241e-02]],\n",
       "\n",
       "       [[ 1.02601750e+01,  1.27954427e+01,  1.04261916e+01, ...,\n",
       "          6.02219406e+00,  7.53913583e+00,  9.35224904e+00],\n",
       "        [ 9.49186875e+00,  1.25897704e+01,  1.05740268e+01, ...,\n",
       "          6.03399490e+00,  9.06874552e+00,  8.74021419e+00],\n",
       "        [ 7.12867480e+00,  1.22064700e+01,  9.49646701e+00, ...,\n",
       "          6.17971667e+00,  6.93374514e+00,  6.48086477e+00],\n",
       "        ...,\n",
       "        [ 1.91950410e+03,  3.51250116e+03,  3.67262586e+03, ...,\n",
       "         -1.62148301e+02, -3.66241674e+02, -4.51866515e+02],\n",
       "        [-7.42916132e+03, -7.50972650e+03, -7.57076073e+03, ...,\n",
       "         -5.49462041e+03, -5.59081036e+03, -5.69139477e+03],\n",
       "        [ 5.98429831e-03,  5.98429831e-03,  5.98429831e-03, ...,\n",
       "         -6.20148303e-02, -6.20148303e-02, -6.20148303e-02]],\n",
       "\n",
       "       [[ 1.01304956e+00, -1.06783230e+00,  3.90824949e+00, ...,\n",
       "          2.18687657e+00,  2.66767712e-02, -7.51193325e+00],\n",
       "        [ 3.31725539e-02, -1.51860504e+00,  4.81957628e+00, ...,\n",
       "          3.98227619e-01, -1.06766739e+00, -5.90302866e+00],\n",
       "        [ 7.22816236e-01,  5.12160665e-01,  8.04440282e+00, ...,\n",
       "          9.66963103e-02,  2.20454025e-01, -4.36041903e+00],\n",
       "        ...,\n",
       "        [-2.14800222e+01, -2.61792078e+02, -1.01386125e+02, ...,\n",
       "          2.58992140e+03,  1.61176696e+03,  7.66674772e+02],\n",
       "        [ 1.16210735e+04,  1.14355295e+04,  1.12646336e+04, ...,\n",
       "          2.76134490e+03,  2.67687353e+03,  2.60314418e+03],\n",
       "        [ 2.90621276e-03,  2.90621276e-03,  2.90621276e-03, ...,\n",
       "         -1.51091814e-01, -1.51091814e-01, -1.51091814e-01]],\n",
       "\n",
       "       ...,\n",
       "\n",
       "       [[-8.03634338e+01, -9.74132380e+01, -1.29282343e+02, ...,\n",
       "         -2.27159555e+01, -3.98839623e+01, -4.27168009e+01],\n",
       "        [-7.88689837e+00, -1.32695026e+01, -1.52015439e+01, ...,\n",
       "         -1.44830353e+01, -2.27735404e+01, -2.50809240e+01],\n",
       "        [ 4.53823377e+00,  3.76609508e+00,  6.68014931e+00, ...,\n",
       "         -1.49352109e+01, -2.50758813e+01, -2.98272570e+01],\n",
       "        ...,\n",
       "        [-2.26903878e+00, -1.48779022e+00,  9.19969003e+00, ...,\n",
       "          2.77855444e+02,  2.87699175e+02,  2.88386674e+02],\n",
       "        [-1.23182552e+01, -7.50576413e+00,  1.99421832e+00, ...,\n",
       "          3.13587393e+02,  3.21524878e+02,  3.21212378e+02],\n",
       "        [ 6.97695651e+00, -2.33979874e+01, -2.43354856e+01, ...,\n",
       "          4.72851096e+02,  4.79819833e+02,  4.68976103e+02]],\n",
       "\n",
       "       [[-1.49678624e+02, -1.15109955e+02, -6.60565962e+01, ...,\n",
       "         -2.46732526e+01, -3.93445101e+01, -3.70205544e+01],\n",
       "        [-1.88456632e+01, -2.19545980e+01, -1.48233869e+01, ...,\n",
       "          9.65773985e+00,  2.31731695e+00, -3.27949883e+00],\n",
       "        [ 3.35124811e+00, -6.54690635e+00, -3.46002364e+00, ...,\n",
       "          1.49703872e+01,  1.12910966e+01,  5.35412142e+00],\n",
       "        ...,\n",
       "        [ 3.98632890e+01,  1.64258323e+01, -4.11365614e+01, ...,\n",
       "          8.08209770e+00,  1.71445810e+01, -4.32412938e+00],\n",
       "        [ 4.54370905e+01,  2.26871326e+01, -3.34690137e+01, ...,\n",
       "          7.57807845e+01,  8.13745241e+01,  6.01245634e+01],\n",
       "        [ 8.14206666e+01,  2.89139033e+02,  3.20076476e+02, ...,\n",
       "         -5.26103357e+01, -4.35791024e+01, -6.78603076e+01]],\n",
       "\n",
       "       [[ 5.90738627e+01,  3.22703180e+01,  3.52902837e+00, ...,\n",
       "          5.33366917e+00,  3.48515076e+00,  1.54105605e+00],\n",
       "        [ 7.42920589e+00,  7.63169576e+00,  3.05602078e+00, ...,\n",
       "         -2.75584375e-01,  3.59956763e+00,  6.54908282e+00],\n",
       "        [-1.74361887e+00, -1.27620633e+00,  1.77208843e+00, ...,\n",
       "          1.00518107e+01,  1.55493856e+01,  1.24976715e+01],\n",
       "        ...,\n",
       "        [ 5.18352721e+01,  4.44290357e+01,  3.32103065e+01, ...,\n",
       "          1.76116292e+02,  1.78585038e+02,  1.60460071e+02],\n",
       "        [ 4.32609878e+01,  3.91047455e+01,  3.59485013e+01, ...,\n",
       "          2.93760525e+02,  2.88760534e+02,  2.80385550e+02],\n",
       "        [-1.56615108e+01,  6.96344742e+00,  1.89634252e+01, ...,\n",
       "         -7.72551470e+01, -8.37551350e+01, -8.04426411e+01]]])"
      ]
     },
     "execution_count": 6,
     "metadata": {},
     "output_type": "execute_result"
    }
   ],
   "source": [
    "x"
   ]
  },
  {
   "cell_type": "code",
   "execution_count": 55,
   "id": "a5aa1087",
   "metadata": {},
   "outputs": [
    {
     "name": "stdout",
     "output_type": "stream",
     "text": [
      "(1200, 40, 8064) (1200, 4)\n"
     ]
    }
   ],
   "source": [
    "l = []\n",
    "countLevel = [0]*10\n",
    "for i in dicty['labels']:\n",
    "#     temp = [0.]*10\n",
    "#     temp[int(i[1])-1] = 1.\n",
    "#     countLevel[int(i[1])-1] += 1\n",
    "    temp = []\n",
    "    for j in i:\n",
    "        temp.append(j/10)\n",
    "    l.append(temp.copy())\n",
    "y = numpy.array(l)\n",
    "print(x.shape, y.shape)"
   ]
  },
  {
   "cell_type": "code",
   "execution_count": 56,
   "id": "9571cb74",
   "metadata": {},
   "outputs": [
    {
     "name": "stdout",
     "output_type": "stream",
     "text": [
      "[0, 0, 0, 0, 0, 0, 0, 0, 0, 0]\n"
     ]
    }
   ],
   "source": [
    "print(countLevel)"
   ]
  },
  {
   "cell_type": "code",
   "execution_count": 57,
   "id": "86fde04d",
   "metadata": {
    "scrolled": true
   },
   "outputs": [
    {
     "name": "stdout",
     "output_type": "stream",
     "text": [
      "EEG recordings of all 40 channels when the first video is played :\n",
      " [[ 9.48231681e-01  1.65333533e+00  3.01372577e+00 ... -2.82648937e+00\n",
      "  -4.47722969e+00 -3.67692812e+00]\n",
      " [ 1.24706590e-01  1.39008270e+00  1.83509881e+00 ... -2.98702069e+00\n",
      "  -6.28780884e+00 -4.47429041e+00]\n",
      " [-2.21651099e+00  2.29201682e+00  2.74636923e+00 ... -2.63707760e+00\n",
      "  -7.40651010e+00 -6.75590441e+00]\n",
      " ...\n",
      " [ 2.30779684e+02  6.96716323e+02  1.19512165e+03 ...  1.01080949e+03\n",
      "   1.28312149e+03  1.51996480e+03]\n",
      " [-1.54180981e+03 -1.61798052e+03 -1.69268642e+03 ... -1.57842691e+04\n",
      "  -1.57823160e+04 -1.57808512e+04]\n",
      " [ 6.39054310e-03  6.39054310e-03  6.39054310e-03 ... -9.76081241e-02\n",
      "  -9.76081241e-02 -9.76081241e-02]]\n",
      "\n",
      "Readings (valence, arousal, dominance, liking) for the First video :  [0.771 0.76  0.69  0.783]\n"
     ]
    }
   ],
   "source": [
    "print(\"EEG recordings of all 40 channels when the first video is played :\\n\",x[0])\n",
    "print(\"\\nReadings (valence, arousal, dominance, liking) for the First video : \",y[0])"
   ]
  },
  {
   "cell_type": "code",
   "execution_count": 58,
   "id": "d93b84b5",
   "metadata": {},
   "outputs": [],
   "source": [
    "x_train, x_test, y_train, y_test = train_test_split(x, y, test_size=0.2)"
   ]
  },
  {
   "cell_type": "code",
   "execution_count": 59,
   "id": "2af56f72",
   "metadata": {},
   "outputs": [
    {
     "name": "stdout",
     "output_type": "stream",
     "text": [
      "EEG recordings of all 40 channels when a video is played :\n",
      " [[ 3.42991843e+01  3.78352447e+01  1.97931994e+01 ... -2.40424860e+01\n",
      "  -2.08257613e+01 -2.38123553e+01]\n",
      " [ 2.92792528e+01  3.79797367e+01  2.57882460e+01 ... -4.69539546e+01\n",
      "  -2.86033411e+01 -2.46933206e+01]\n",
      " [-1.03911916e+01 -8.25856822e+00  3.08790166e+00 ...  9.01936411e+00\n",
      "  -7.89421768e-01 -3.19786215e-01]\n",
      " ...\n",
      " [ 1.78368388e+03  1.34980968e+03  1.45065324e+03 ... -6.85030310e+02\n",
      "  -7.19436496e+02 -8.63717480e+02]\n",
      " [ 2.43241491e+03  2.41727842e+03  2.40555985e+03 ... -3.10070411e+03\n",
      "  -3.09386828e+03 -3.06896631e+03]\n",
      " [ 4.60410766e-03  4.60410766e-03  4.60410766e-03 ... -1.94393342e-01\n",
      "  -1.94393342e-01 -1.94393342e-01]]\n",
      "\n",
      "Readings(valence, arousal, dominance, liking) for a video :  [0.412 0.488 0.505 0.517]\n"
     ]
    }
   ],
   "source": [
    "print(\"EEG recordings of all 40 channels when a video is played :\\n\",x_train[0])\n",
    "print(\"\\nReadings(valence, arousal, dominance, liking) for a video : \",y_train[0])"
   ]
  },
  {
   "cell_type": "code",
   "execution_count": 60,
   "id": "52f5e4ac",
   "metadata": {},
   "outputs": [
    {
     "name": "stdout",
     "output_type": "stream",
     "text": [
      "(960, 40, 8064) (240, 40, 8064) (960, 4) (240, 4)\n"
     ]
    }
   ],
   "source": [
    "print(x_train.shape, x_test.shape, y_train.shape, y_test.shape)"
   ]
  },
  {
   "cell_type": "code",
   "execution_count": 61,
   "id": "98464c2d",
   "metadata": {
    "scrolled": true
   },
   "outputs": [],
   "source": [
    "import tensorflow as tf\n",
    "from tensorflow.keras import Sequential\n",
    "\n",
    "from tensorflow.keras.layers import Dense, Dropout\n",
    "from tensorflow.keras.layers import Embedding\n",
    "from tensorflow.keras.layers import LSTM\n",
    "\n",
    "import keras\n",
    "\n",
    "from tensorflow.keras.models import Sequential,load_model\n",
    "from tensorflow.keras.layers import Dense, Conv2D ,LSTM, MaxPooling2D , Flatten , Dropout , BatchNormalization\n",
    "\n",
    "tf.keras.backend.clear_session()"
   ]
  },
  {
   "cell_type": "code",
   "execution_count": 62,
   "id": "5282c922",
   "metadata": {},
   "outputs": [
    {
     "name": "stdout",
     "output_type": "stream",
     "text": [
      "Model: \"sequential\"\n",
      "_________________________________________________________________\n",
      "Layer (type)                 Output Shape              Param #   \n",
      "=================================================================\n",
      "lstm (LSTM)                  (None, 40, 16)            517184    \n",
      "_________________________________________________________________\n",
      "dropout (Dropout)            (None, 40, 16)            0         \n",
      "_________________________________________________________________\n",
      "lstm_1 (LSTM)                (None, 16)                2112      \n",
      "_________________________________________________________________\n",
      "dropout_1 (Dropout)          (None, 16)                0         \n",
      "_________________________________________________________________\n",
      "dense (Dense)                (None, 64)                1088      \n",
      "_________________________________________________________________\n",
      "dropout_2 (Dropout)          (None, 64)                0         \n",
      "_________________________________________________________________\n",
      "dense_1 (Dense)              (None, 4)                 260       \n",
      "=================================================================\n",
      "Total params: 520,644\n",
      "Trainable params: 520,644\n",
      "Non-trainable params: 0\n",
      "_________________________________________________________________\n"
     ]
    }
   ],
   "source": [
    "model = Sequential()\n",
    "model.add(LSTM(16, input_shape=(40,8064),activation=\"tanh\",return_sequences=True))\n",
    "model.add(Dropout(0.2))\n",
    "model.add(LSTM(16, activation='tanh'))\n",
    "model.add(Dropout(0.2))\n",
    "model.add(Dense(64, activation='tanh'))\n",
    "model.add(Dropout(0.2))\n",
    "model.add(Dense(4, activation='sigmoid'))\n",
    "from keras.optimizers import SGD\n",
    "model.compile(loss = 'categorical_crossentropy', optimizer = \"adam\", metrics = ['accuracy'])\n",
    "model.summary()"
   ]
  },
  {
   "cell_type": "code",
   "execution_count": 63,
   "id": "d1034c5e",
   "metadata": {},
   "outputs": [
    {
     "name": "stdout",
     "output_type": "stream",
     "text": [
      "Train on 960 samples, validate on 240 samples\n",
      "Epoch 1/10\n",
      "960/960 [==============================] - 186s 193ms/sample - loss: 2.9449 - acc: 0.2677 - val_loss: 2.9711 - val_acc: 0.2542\n",
      "Epoch 2/10\n",
      "960/960 [==============================] - 19s 20ms/sample - loss: 2.9429 - acc: 0.2937 - val_loss: 2.9708 - val_acc: 0.2625\n",
      "Epoch 3/10\n",
      "960/960 [==============================] - 22s 23ms/sample - loss: 2.9414 - acc: 0.3042 - val_loss: 2.9712 - val_acc: 0.2667\n",
      "Epoch 4/10\n",
      "960/960 [==============================] - 21s 22ms/sample - loss: 2.9410 - acc: 0.3198 - val_loss: 2.9751 - val_acc: 0.2375\n",
      "Epoch 5/10\n",
      "960/960 [==============================] - 23s 23ms/sample - loss: 2.9381 - acc: 0.3323 - val_loss: 2.9754 - val_acc: 0.2042\n",
      "Epoch 6/10\n",
      "960/960 [==============================] - 21s 22ms/sample - loss: 2.9342 - acc: 0.3708 - val_loss: 2.9800 - val_acc: 0.2417\n",
      "Epoch 7/10\n",
      "960/960 [==============================] - 22s 23ms/sample - loss: 2.9290 - acc: 0.3917 - val_loss: 2.9876 - val_acc: 0.2792\n",
      "Epoch 8/10\n",
      "960/960 [==============================] - 22s 23ms/sample - loss: 2.9244 - acc: 0.4333 - val_loss: 2.9964 - val_acc: 0.2208\n",
      "Epoch 9/10\n",
      "960/960 [==============================] - 22s 23ms/sample - loss: 2.9197 - acc: 0.4240 - val_loss: 2.9952 - val_acc: 0.2083\n",
      "Epoch 10/10\n",
      "960/960 [==============================] - 22s 23ms/sample - loss: 2.9161 - acc: 0.4812 - val_loss: 3.0024 - val_acc: 0.2083\n",
      "240/240 [==============================] - 2s 8ms/sample - loss: 3.0024 - acc: 0.2083\n"
     ]
    }
   ],
   "source": [
    "history = model.fit(x_train, y_train, epochs = 10,batch_size=10, validation_data= (x_test, y_test))\n",
    "score, acc = model.evaluate(x_test, y_test)"
   ]
  },
  {
   "cell_type": "code",
   "execution_count": 53,
   "id": "08833c79",
   "metadata": {},
   "outputs": [],
   "source": [
    "test = model.predict(x_test)  "
   ]
  },
  {
   "cell_type": "code",
   "execution_count": 66,
   "id": "f649c648",
   "metadata": {},
   "outputs": [
    {
     "name": "stdout",
     "output_type": "stream",
     "text": [
      "0.6247215 2.1303808093070984 [0.6178821  0.37579513 0.5119821  0.6247215 ] [0.406 0.458 0.564 0.399] 3 2\n"
     ]
    }
   ],
   "source": [
    "t = 100\n",
    "print(max(test[t]),sum(test[t]),test[t], y_test[t], np.argmax(test[t]), np.argmax(y_test[t]))"
   ]
  },
  {
   "cell_type": "code",
   "execution_count": 67,
   "id": "a4cbbfb3",
   "metadata": {},
   "outputs": [
    {
     "name": "stdout",
     "output_type": "stream",
     "text": [
      "(240,)\n",
      "(240,)\n",
      "Training Accuracy: 0.20833333333333334\n"
     ]
    }
   ],
   "source": [
    "from sklearn.metrics import accuracy_score\n",
    "pred = model.predict(x_test)\n",
    "predict_classes = np.argmax(pred,axis=1)\n",
    "expected_classes = np.argmax(y_test,axis=1)\n",
    "print(expected_classes.shape)\n",
    "print(predict_classes.shape)\n",
    "correct = accuracy_score(expected_classes,predict_classes)\n",
    "print(f\"Training Accuracy: {correct}\")"
   ]
  },
  {
   "cell_type": "code",
   "execution_count": 68,
   "id": "de311848",
   "metadata": {},
   "outputs": [],
   "source": [
    "model.save(\n",
    "    filepath=\"LSTM_DeapDataset_SavedModel.h5\",\n",
    "    save_format='h5'\n",
    ")"
   ]
  },
  {
   "cell_type": "code",
   "execution_count": 143,
   "id": "9edf85a8",
   "metadata": {},
   "outputs": [
    {
     "ename": "AttributeError",
     "evalue": "type object 'TFLiteConverter' has no attribute 'from_keras_model'",
     "output_type": "error",
     "traceback": [
      "\u001b[1;31m---------------------------------------------------------------------------\u001b[0m",
      "\u001b[1;31mAttributeError\u001b[0m                            Traceback (most recent call last)",
      "\u001b[1;32m~\\AppData\\Local\\Temp\\ipykernel_12852\\558661905.py\u001b[0m in \u001b[0;36m<module>\u001b[1;34m\u001b[0m\n\u001b[1;32m----> 1\u001b[1;33m \u001b[0mconverter\u001b[0m \u001b[1;33m=\u001b[0m \u001b[0mtf\u001b[0m\u001b[1;33m.\u001b[0m\u001b[0mlite\u001b[0m\u001b[1;33m.\u001b[0m\u001b[0mTFLiteConverter\u001b[0m\u001b[1;33m.\u001b[0m\u001b[0mfrom_keras_model\u001b[0m\u001b[1;33m(\u001b[0m\u001b[0mmodel\u001b[0m\u001b[1;33m)\u001b[0m\u001b[1;33m\u001b[0m\u001b[1;33m\u001b[0m\u001b[0m\n\u001b[0m\u001b[0;32m      2\u001b[0m \u001b[0mtflite_model\u001b[0m \u001b[1;33m=\u001b[0m \u001b[0mconverter\u001b[0m\u001b[1;33m.\u001b[0m\u001b[0mconvert\u001b[0m\u001b[1;33m(\u001b[0m\u001b[1;33m)\u001b[0m\u001b[1;33m\u001b[0m\u001b[1;33m\u001b[0m\u001b[0m\n\u001b[0;32m      3\u001b[0m \u001b[1;33m\u001b[0m\u001b[0m\n\u001b[0;32m      4\u001b[0m \u001b[1;31m# Save the model in tflite format.\u001b[0m\u001b[1;33m\u001b[0m\u001b[1;33m\u001b[0m\u001b[1;33m\u001b[0m\u001b[0m\n\u001b[0;32m      5\u001b[0m \u001b[1;32mwith\u001b[0m \u001b[0mopen\u001b[0m\u001b[1;33m(\u001b[0m\u001b[1;34m'LSTM_DeapDataset_model.tflite'\u001b[0m\u001b[1;33m,\u001b[0m \u001b[1;34m'wb'\u001b[0m\u001b[1;33m)\u001b[0m \u001b[1;32mas\u001b[0m \u001b[0mf\u001b[0m\u001b[1;33m:\u001b[0m\u001b[1;33m\u001b[0m\u001b[1;33m\u001b[0m\u001b[0m\n",
      "\u001b[1;31mAttributeError\u001b[0m: type object 'TFLiteConverter' has no attribute 'from_keras_model'"
     ]
    }
   ],
   "source": [
    "converter = tf.lite.TFLiteConverter.from_keras_model(model)\n",
    "tflite_model = converter.convert()\n",
    "\n",
    "# Save the model in tflite format.\n",
    "with open('LSTM_DeapDataset_model.tflite', 'wb') as f:\n",
    "    f.write(tflite_model)"
   ]
  },
  {
   "cell_type": "code",
   "execution_count": null,
   "id": "60979a2f",
   "metadata": {},
   "outputs": [],
   "source": []
  },
  {
   "cell_type": "code",
   "execution_count": null,
   "id": "eff26430",
   "metadata": {},
   "outputs": [],
   "source": []
  },
  {
   "cell_type": "code",
   "execution_count": null,
   "id": "3120af1d",
   "metadata": {},
   "outputs": [],
   "source": []
  },
  {
   "cell_type": "code",
   "execution_count": null,
   "id": "c434032e",
   "metadata": {},
   "outputs": [],
   "source": []
  },
  {
   "cell_type": "markdown",
   "id": "977b8e6c",
   "metadata": {},
   "source": [
    "# Derive subject specific model from general model"
   ]
  },
  {
   "cell_type": "code",
   "execution_count": 86,
   "id": "e048c373",
   "metadata": {},
   "outputs": [
    {
     "name": "stdout",
     "output_type": "stream",
     "text": [
      "Model: \"sequential\"\n",
      "_________________________________________________________________\n",
      "Layer (type)                 Output Shape              Param #   \n",
      "=================================================================\n",
      "lstm (LSTM)                  (None, 40, 16)            517184    \n",
      "_________________________________________________________________\n",
      "dropout (Dropout)            (None, 40, 16)            0         \n",
      "_________________________________________________________________\n",
      "lstm_1 (LSTM)                (None, 16)                2112      \n",
      "_________________________________________________________________\n",
      "dropout_1 (Dropout)          (None, 16)                0         \n",
      "_________________________________________________________________\n",
      "dense (Dense)                (None, 64)                1088      \n",
      "_________________________________________________________________\n",
      "dropout_2 (Dropout)          (None, 64)                0         \n",
      "_________________________________________________________________\n",
      "dense_1 (Dense)              (None, 4)                 260       \n",
      "=================================================================\n",
      "Total params: 520,644\n",
      "Trainable params: 520,644\n",
      "Non-trainable params: 0\n",
      "_________________________________________________________________\n"
     ]
    }
   ],
   "source": [
    "base_model = tf.keras.models.load_model(\"LSTM_DeapDataset_SavedModel.h5\")\n",
    "base_model.summary()"
   ]
  },
  {
   "cell_type": "code",
   "execution_count": 87,
   "id": "1ba392dd",
   "metadata": {},
   "outputs": [
    {
     "name": "stdout",
     "output_type": "stream",
     "text": [
      "Model: \"sequential\"\n",
      "_________________________________________________________________\n",
      "Layer (type)                 Output Shape              Param #   \n",
      "=================================================================\n",
      "lstm (LSTM)                  (None, 40, 16)            517184    \n",
      "_________________________________________________________________\n",
      "dropout (Dropout)            (None, 40, 16)            0         \n",
      "_________________________________________________________________\n",
      "lstm_1 (LSTM)                (None, 16)                2112      \n",
      "_________________________________________________________________\n",
      "dropout_1 (Dropout)          (None, 16)                0         \n",
      "_________________________________________________________________\n",
      "dense (Dense)                (None, 64)                1088      \n",
      "_________________________________________________________________\n",
      "dropout_2 (Dropout)          (None, 64)                0         \n",
      "_________________________________________________________________\n",
      "dense_1 (Dense)              (None, 4)                 260       \n",
      "=================================================================\n",
      "Total params: 520,644\n",
      "Trainable params: 520,644\n",
      "Non-trainable params: 0\n",
      "_________________________________________________________________\n"
     ]
    }
   ],
   "source": [
    "personnel_model = base_model\n",
    "\n",
    "personnel_model.summary()"
   ]
  },
  {
   "cell_type": "code",
   "execution_count": 71,
   "id": "7bc3bdcd",
   "metadata": {},
   "outputs": [],
   "source": [
    "personnel_model.compile(loss = 'categorical_crossentropy', optimizer = \"adam\", metrics = ['accuracy'])"
   ]
  },
  {
   "cell_type": "code",
   "execution_count": 72,
   "id": "617b5858",
   "metadata": {},
   "outputs": [
    {
     "name": "stdout",
     "output_type": "stream",
     "text": [
      "31\n"
     ]
    }
   ],
   "source": [
    "dicty = {'labels':[]}\n",
    "x1 = []\n",
    "for i in [\"31\"]:\n",
    "    d = open('data_preprocessed_python/data_json/'+i)\n",
    "    d = json.load(d)\n",
    "    if(i == '31'):\n",
    "        x1 = numpy.array(d['data'])\n",
    "    else:\n",
    "        x1 = numpy.concatenate((x, numpy.array(d['data'])), axis=0)\n",
    "    dicty['labels'] += d['labels']\n",
    "    print(i)"
   ]
  },
  {
   "cell_type": "code",
   "execution_count": 82,
   "id": "1f61356f",
   "metadata": {},
   "outputs": [
    {
     "name": "stdout",
     "output_type": "stream",
     "text": [
      "(1200, 40, 8064) (1200, 4)\n"
     ]
    }
   ],
   "source": [
    "# l = []\n",
    "# for i in dicty['labels']:\n",
    "#     temp = [0.]*10\n",
    "#     temp[int(i[1])-1] = 1.\n",
    "# #     temp = []\n",
    "# #     for j in range(4): temp.append(i[j]/10)\n",
    "#     l.append(temp.copy())\n",
    "# y1 = numpy.array(l)\n",
    "# print(x1.shape, y1.shape)\n",
    "\n",
    "l = []\n",
    "countLevel = [0]*10\n",
    "for i in dicty['labels']:\n",
    "#     temp = [0.]*10\n",
    "#     temp[int(i[1])-1] = 1.\n",
    "#     countLevel[int(i[1])-1] += 1\n",
    "    temp = []\n",
    "    for j in i:\n",
    "        temp.append(j/10)\n",
    "    l.append(temp.copy())\n",
    "y1 = numpy.array(l)\n",
    "print(x.shape, y.shape)"
   ]
  },
  {
   "cell_type": "code",
   "execution_count": 83,
   "id": "6200efd9",
   "metadata": {},
   "outputs": [],
   "source": [
    "x_train1, x_test1, y_train1, y_test1 = train_test_split(x1, y1, test_size=0.3)"
   ]
  },
  {
   "cell_type": "code",
   "execution_count": 84,
   "id": "10f75335",
   "metadata": {},
   "outputs": [
    {
     "name": "stdout",
     "output_type": "stream",
     "text": [
      "EEG recordings of all 40 channels when the first video is played :\n",
      " [[ 9.22905102e+00  2.00078578e+01  2.36428513e+00 ...  1.19926838e+01\n",
      "   1.25819919e+01  2.95392499e+00]\n",
      " [ 1.24198984e+00 -9.08411395e+00 -6.75871702e+00 ...  4.53949078e+00\n",
      "   1.08193557e+01  9.85024026e+00]\n",
      " [ 8.89231855e+00  6.31013864e+00 -2.98870842e+00 ... -2.20874173e+00\n",
      "   6.95767554e+00  9.73739889e+00]\n",
      " ...\n",
      " [ 6.69904361e+00 -5.50942992e-01  1.70115246e+01 ...  3.34260938e+02\n",
      "   3.33854689e+02  3.38354681e+02]\n",
      " [ 2.66286129e+01  2.24723706e+01  3.30348511e+01 ...  3.77190465e+02\n",
      "   3.77127965e+02  3.84034203e+02]\n",
      " [ 2.55784846e+01  5.51602171e+00  2.21097410e+01 ...  6.49639832e+02\n",
      "   6.29389869e+02  6.42983594e+02]]\n",
      "\n",
      "Readings(valence, arousal, dominance, liking) for the First video :  [0.679 0.597 0.808 0.809]\n"
     ]
    }
   ],
   "source": [
    "print(\"EEG recordings of all 40 channels when the first video is played :\\n\",x1[0])\n",
    "print(\"\\nReadings(valence, arousal, dominance, liking) for the First video : \",y1[0])"
   ]
  },
  {
   "cell_type": "code",
   "execution_count": 85,
   "id": "9addfd95",
   "metadata": {},
   "outputs": [
    {
     "name": "stdout",
     "output_type": "stream",
     "text": [
      "Train on 28 samples, validate on 12 samples\n",
      "Epoch 1/10\n",
      "28/28 [==============================] - 2s 82ms/sample - loss: 2.8932 - acc: 0.2857 - val_loss: 2.9546 - val_acc: 0.3333\n",
      "Epoch 2/10\n",
      "28/28 [==============================] - 1s 20ms/sample - loss: 2.8467 - acc: 0.5357 - val_loss: 2.9483 - val_acc: 0.3333\n",
      "Epoch 3/10\n",
      "28/28 [==============================] - 0s 13ms/sample - loss: 2.8378 - acc: 0.5000 - val_loss: 2.9426 - val_acc: 0.3333\n",
      "Epoch 4/10\n",
      "28/28 [==============================] - 0s 14ms/sample - loss: 2.8215 - acc: 0.5357 - val_loss: 2.9383 - val_acc: 0.3333\n",
      "Epoch 5/10\n",
      "28/28 [==============================] - 0s 12ms/sample - loss: 2.8118 - acc: 0.5714 - val_loss: 2.9350 - val_acc: 0.3333\n",
      "Epoch 6/10\n",
      "28/28 [==============================] - 0s 16ms/sample - loss: 2.8122 - acc: 0.6429 - val_loss: 2.9333 - val_acc: 0.2500\n",
      "Epoch 7/10\n",
      "28/28 [==============================] - 0s 12ms/sample - loss: 2.8010 - acc: 0.5714 - val_loss: 2.9321 - val_acc: 0.2500\n",
      "Epoch 8/10\n",
      "28/28 [==============================] - 0s 12ms/sample - loss: 2.7994 - acc: 0.4643 - val_loss: 2.9308 - val_acc: 0.2500\n",
      "Epoch 9/10\n",
      "28/28 [==============================] - 0s 16ms/sample - loss: 2.7960 - acc: 0.6071 - val_loss: 2.9304 - val_acc: 0.2500\n",
      "Epoch 10/10\n",
      "28/28 [==============================] - 0s 13ms/sample - loss: 2.7976 - acc: 0.6071 - val_loss: 2.9300 - val_acc: 0.2500\n"
     ]
    }
   ],
   "source": [
    "history = personnel_model.fit(x_train1, y_train1, validation_data=(x_test1,y_test1), epochs = 10)"
   ]
  },
  {
   "cell_type": "markdown",
   "id": "ce5745c3",
   "metadata": {},
   "source": [
    "# Altering the weight matrix of the personnel model"
   ]
  },
  {
   "cell_type": "code",
   "execution_count": 102,
   "id": "8ee6c54b",
   "metadata": {
    "scrolled": false
   },
   "outputs": [
    {
     "name": "stdout",
     "output_type": "stream",
     "text": [
      "[array([[-0.02289142, -0.06132822,  0.00619925, ...,  0.01953946,\n",
      "         0.03794217, -0.01813117],\n",
      "       [-0.01757604, -0.02103817,  0.0029395 , ...,  0.03107735,\n",
      "         0.04620969, -0.0615098 ],\n",
      "       [-0.06559132, -0.07253347,  0.01943454, ...,  0.01086746,\n",
      "         0.02284076, -0.03274424],\n",
      "       ...,\n",
      "       [-0.01280662,  0.01786155,  0.01078917, ..., -0.02022019,\n",
      "        -0.02378677,  0.04130828],\n",
      "       [ 0.03482852,  0.00962886,  0.01527912, ..., -0.03114082,\n",
      "        -0.03285113,  0.06397946],\n",
      "       [ 0.01942212, -0.00188519, -0.01295653, ..., -0.00739724,\n",
      "        -0.06662164,  0.05419812]], dtype=float32), array([[-0.10885505,  0.04463299, -0.05697789, ..., -0.0955162 ,\n",
      "        -0.0029075 , -0.13371572],\n",
      "       [-0.03746958,  0.11218166,  0.23356499, ..., -0.0130074 ,\n",
      "         0.0680801 ,  0.00160471],\n",
      "       [ 0.02918994,  0.01965389, -0.08224562, ..., -0.10667934,\n",
      "         0.1700718 , -0.15477523],\n",
      "       ...,\n",
      "       [ 0.05430954,  0.12372952, -0.02815692, ..., -0.13318336,\n",
      "         0.05372804,  0.03351686],\n",
      "       [-0.17705311, -0.00372959,  0.07785031, ...,  0.0003494 ,\n",
      "        -0.00971359,  0.28850204],\n",
      "       [ 0.27188987, -0.08716558, -0.08513296, ..., -0.00406092,\n",
      "        -0.31878942,  0.06226806]], dtype=float32), array([ 4.2437378e-02, -8.6354025e-02,  7.2208323e-02, -7.4716173e-02,\n",
      "        2.0998385e-02,  3.4953687e-02,  3.7669625e-02,  6.8387173e-02,\n",
      "        2.6469890e-02, -3.5592917e-02, -4.0872537e-02,  4.1075278e-02,\n",
      "        2.6296310e-02, -6.1319288e-02,  5.6772761e-02, -1.5369815e-02,\n",
      "        9.6695262e-01,  9.7370273e-01,  1.0245218e+00,  1.0125077e+00,\n",
      "        1.0397551e+00,  1.0662897e+00,  9.9225610e-01,  9.7749209e-01,\n",
      "        9.2449695e-01,  9.2912227e-01,  9.1246313e-01,  1.0027784e+00,\n",
      "        1.0021521e+00,  1.0140836e+00,  9.9753028e-01,  9.8218983e-01,\n",
      "       -5.8965990e-03, -9.9590677e-04, -5.4111823e-02,  4.2808298e-02,\n",
      "        7.8695966e-03,  4.2655747e-03, -2.9763829e-02,  2.3743825e-02,\n",
      "        5.1718775e-02,  2.9643150e-02,  5.3423516e-02, -5.0414003e-02,\n",
      "        4.1711416e-02, -4.4139024e-02, -4.8680000e-02,  7.2997876e-02,\n",
      "       -2.7166158e-02, -1.6847525e-02, -3.2945279e-02, -9.2029311e-03,\n",
      "        1.6007824e-02,  1.5592308e-02, -5.6755990e-02, -6.1981097e-02,\n",
      "       -6.4111605e-02, -3.6365952e-02, -7.0745759e-02, -1.0966955e-02,\n",
      "       -6.9273026e-03,  2.8462175e-02,  1.8437311e-02, -8.5434109e-02],\n",
      "      dtype=float32)]\n",
      "3\n",
      "8064 64\n",
      "16 64\n",
      "64\n"
     ]
    }
   ],
   "source": [
    "lw = model.layers[0].get_weights()\n",
    "print(lw)\n",
    "print(len(lw))\n",
    "print(len(lw[0]), len(lw[0][0]))\n",
    "print(len(lw[1]), len(lw[1][0]))\n",
    "print(len(lw[2]))"
   ]
  },
  {
   "cell_type": "code",
   "execution_count": 103,
   "id": "cee43c53",
   "metadata": {},
   "outputs": [
    {
     "name": "stdout",
     "output_type": "stream",
     "text": [
      "weights of layer 1 : \n",
      " [array([[-0.02289142, -0.06132822,  0.00619925, ...,  0.01953946,\n",
      "         0.03794217, -0.01813117],\n",
      "       [-0.01757604, -0.02103817,  0.0029395 , ...,  0.03107735,\n",
      "         0.04620969, -0.0615098 ],\n",
      "       [-0.06559132, -0.07253347,  0.01943454, ...,  0.01086746,\n",
      "         0.02284076, -0.03274424],\n",
      "       ...,\n",
      "       [-0.01280662,  0.01786155,  0.01078917, ..., -0.02022019,\n",
      "        -0.02378677,  0.04130828],\n",
      "       [ 0.03482852,  0.00962886,  0.01527912, ..., -0.03114082,\n",
      "        -0.03285113,  0.06397946],\n",
      "       [ 0.01942212, -0.00188519, -0.01295653, ..., -0.00739724,\n",
      "        -0.06662164,  0.05419812]], dtype=float32), array([[-0.10885505,  0.04463299, -0.05697789, ..., -0.0955162 ,\n",
      "        -0.0029075 , -0.13371572],\n",
      "       [-0.03746958,  0.11218166,  0.23356499, ..., -0.0130074 ,\n",
      "         0.0680801 ,  0.00160471],\n",
      "       [ 0.02918994,  0.01965389, -0.08224562, ..., -0.10667934,\n",
      "         0.1700718 , -0.15477523],\n",
      "       ...,\n",
      "       [ 0.05430954,  0.12372952, -0.02815692, ..., -0.13318336,\n",
      "         0.05372804,  0.03351686],\n",
      "       [-0.17705311, -0.00372959,  0.07785031, ...,  0.0003494 ,\n",
      "        -0.00971359,  0.28850204],\n",
      "       [ 0.27188987, -0.08716558, -0.08513296, ..., -0.00406092,\n",
      "        -0.31878942,  0.06226806]], dtype=float32), array([ 4.2437378e-02, -8.6354025e-02,  7.2208323e-02, -7.4716173e-02,\n",
      "        2.0998385e-02,  3.4953687e-02,  3.7669625e-02,  6.8387173e-02,\n",
      "        2.6469890e-02, -3.5592917e-02, -4.0872537e-02,  4.1075278e-02,\n",
      "        2.6296310e-02, -6.1319288e-02,  5.6772761e-02, -1.5369815e-02,\n",
      "        9.6695262e-01,  9.7370273e-01,  1.0245218e+00,  1.0125077e+00,\n",
      "        1.0397551e+00,  1.0662897e+00,  9.9225610e-01,  9.7749209e-01,\n",
      "        9.2449695e-01,  9.2912227e-01,  9.1246313e-01,  1.0027784e+00,\n",
      "        1.0021521e+00,  1.0140836e+00,  9.9753028e-01,  9.8218983e-01,\n",
      "       -5.8965990e-03, -9.9590677e-04, -5.4111823e-02,  4.2808298e-02,\n",
      "        7.8695966e-03,  4.2655747e-03, -2.9763829e-02,  2.3743825e-02,\n",
      "        5.1718775e-02,  2.9643150e-02,  5.3423516e-02, -5.0414003e-02,\n",
      "        4.1711416e-02, -4.4139024e-02, -4.8680000e-02,  7.2997876e-02,\n",
      "       -2.7166158e-02, -1.6847525e-02, -3.2945279e-02, -9.2029311e-03,\n",
      "        1.6007824e-02,  1.5592308e-02, -5.6755990e-02, -6.1981097e-02,\n",
      "       -6.4111605e-02, -3.6365952e-02, -7.0745759e-02, -1.0966955e-02,\n",
      "       -6.9273026e-03,  2.8462175e-02,  1.8437311e-02, -8.5434109e-02],\n",
      "      dtype=float32)]\n",
      "\n",
      "\n",
      "\n",
      "\n",
      " weights of layer after adding 1 : \n",
      " [array([[ 0.4771086 , -0.06132822,  0.00619925, ...,  0.01953946,\n",
      "         0.03794217, -0.01813117],\n",
      "       [ 0.48242396, -0.02103817,  0.0029395 , ...,  0.03107735,\n",
      "         0.04620969, -0.0615098 ],\n",
      "       [ 0.43440866, -0.07253347,  0.01943454, ...,  0.01086746,\n",
      "         0.02284076, -0.03274424],\n",
      "       ...,\n",
      "       [ 0.48719338,  0.01786155,  0.01078917, ..., -0.02022019,\n",
      "        -0.02378677,  0.04130828],\n",
      "       [ 0.53482854,  0.00962886,  0.01527912, ..., -0.03114082,\n",
      "        -0.03285113,  0.06397946],\n",
      "       [ 0.5194221 , -0.00188519, -0.01295653, ..., -0.00739724,\n",
      "        -0.06662164,  0.05419812]], dtype=float32), array([[-0.10885505,  0.04463299, -0.05697789, ..., -0.0955162 ,\n",
      "        -0.0029075 , -0.13371572],\n",
      "       [-0.03746958,  0.11218166,  0.23356499, ..., -0.0130074 ,\n",
      "         0.0680801 ,  0.00160471],\n",
      "       [ 0.02918994,  0.01965389, -0.08224562, ..., -0.10667934,\n",
      "         0.1700718 , -0.15477523],\n",
      "       ...,\n",
      "       [ 0.05430954,  0.12372952, -0.02815692, ..., -0.13318336,\n",
      "         0.05372804,  0.03351686],\n",
      "       [-0.17705311, -0.00372959,  0.07785031, ...,  0.0003494 ,\n",
      "        -0.00971359,  0.28850204],\n",
      "       [ 0.27188987, -0.08716558, -0.08513296, ..., -0.00406092,\n",
      "        -0.31878942,  0.06226806]], dtype=float32), array([ 4.2437378e-02, -8.6354025e-02,  7.2208323e-02, -7.4716173e-02,\n",
      "        2.0998385e-02,  3.4953687e-02,  3.7669625e-02,  6.8387173e-02,\n",
      "        2.6469890e-02, -3.5592917e-02, -4.0872537e-02,  4.1075278e-02,\n",
      "        2.6296310e-02, -6.1319288e-02,  5.6772761e-02, -1.5369815e-02,\n",
      "        9.6695262e-01,  9.7370273e-01,  1.0245218e+00,  1.0125077e+00,\n",
      "        1.0397551e+00,  1.0662897e+00,  9.9225610e-01,  9.7749209e-01,\n",
      "        9.2449695e-01,  9.2912227e-01,  9.1246313e-01,  1.0027784e+00,\n",
      "        1.0021521e+00,  1.0140836e+00,  9.9753028e-01,  9.8218983e-01,\n",
      "       -5.8965990e-03, -9.9590677e-04, -5.4111823e-02,  4.2808298e-02,\n",
      "        7.8695966e-03,  4.2655747e-03, -2.9763829e-02,  2.3743825e-02,\n",
      "        5.1718775e-02,  2.9643150e-02,  5.3423516e-02, -5.0414003e-02,\n",
      "        4.1711416e-02, -4.4139024e-02, -4.8680000e-02,  7.2997876e-02,\n",
      "       -2.7166158e-02, -1.6847525e-02, -3.2945279e-02, -9.2029311e-03,\n",
      "        1.6007824e-02,  1.5592308e-02, -5.6755990e-02, -6.1981097e-02,\n",
      "       -6.4111605e-02, -3.6365952e-02, -7.0745759e-02, -1.0966955e-02,\n",
      "       -6.9273026e-03,  2.8462175e-02,  1.8437311e-02, -8.5434109e-02],\n",
      "      dtype=float32)]\n"
     ]
    }
   ],
   "source": [
    "lw = model.layers[0].get_weights()\n",
    "print(\"weights of layer 1 : \\n\", lw)\n",
    "for i in range(len(lw[0])):\n",
    "    j = 0\n",
    "    while(j < len(lw[0][0])):\n",
    "        lw[0][i][j] += 0.5\n",
    "        j += 4\n",
    "print(\"\\n\\n\\n\\n weights of layer after adding 1 : \\n\", lw)"
   ]
  },
  {
   "cell_type": "code",
   "execution_count": 104,
   "id": "2948b195",
   "metadata": {},
   "outputs": [
    {
     "name": "stdout",
     "output_type": "stream",
     "text": [
      "weights of layer 1 : \n",
      " [[-0.02289142 -0.06132822  0.00619925 ...  0.01953946  0.03794217\n",
      "  -0.01813117]\n",
      " [-0.01757604 -0.02103817  0.0029395  ...  0.03107735  0.04620969\n",
      "  -0.0615098 ]\n",
      " [-0.06559132 -0.07253347  0.01943454 ...  0.01086746  0.02284076\n",
      "  -0.03274424]\n",
      " ...\n",
      " [-0.01280662  0.01786155  0.01078917 ... -0.02022019 -0.02378677\n",
      "   0.04130828]\n",
      " [ 0.03482852  0.00962886  0.01527912 ... -0.03114082 -0.03285113\n",
      "   0.06397946]\n",
      " [ 0.01942212 -0.00188519 -0.01295653 ... -0.00739724 -0.06662164\n",
      "   0.05419812]]\n",
      "weights of layer 1 after setting: \n",
      " [[ 0.4771086  -0.06132822  0.00619925 ...  0.01953946  0.03794217\n",
      "  -0.01813117]\n",
      " [ 0.48242396 -0.02103817  0.0029395  ...  0.03107735  0.04620969\n",
      "  -0.0615098 ]\n",
      " [ 0.43440866 -0.07253347  0.01943454 ...  0.01086746  0.02284076\n",
      "  -0.03274424]\n",
      " ...\n",
      " [ 0.48719338  0.01786155  0.01078917 ... -0.02022019 -0.02378677\n",
      "   0.04130828]\n",
      " [ 0.53482854  0.00962886  0.01527912 ... -0.03114082 -0.03285113\n",
      "   0.06397946]\n",
      " [ 0.5194221  -0.00188519 -0.01295653 ... -0.00739724 -0.06662164\n",
      "   0.05419812]]\n"
     ]
    }
   ],
   "source": [
    "print(\"weights of layer 1 : \\n\", model.layers[0].get_weights()[0])\n",
    "personnel_model.layers[0].set_weights(lw)\n",
    "print(\"weights of layer 1 after setting: \\n\", personnel_model.layers[0].get_weights()[0])"
   ]
  },
  {
   "cell_type": "code",
   "execution_count": 105,
   "id": "8e62c7b6",
   "metadata": {},
   "outputs": [],
   "source": [
    "personnel_model.trainable = False"
   ]
  },
  {
   "cell_type": "code",
   "execution_count": 106,
   "id": "6abc810f",
   "metadata": {},
   "outputs": [],
   "source": [
    "personnel_model.compile(loss = 'categorical_crossentropy', optimizer = \"adam\", metrics = ['accuracy'])"
   ]
  },
  {
   "cell_type": "code",
   "execution_count": 107,
   "id": "4da3344d",
   "metadata": {},
   "outputs": [
    {
     "name": "stdout",
     "output_type": "stream",
     "text": [
      "Train on 28 samples, validate on 12 samples\n",
      "Epoch 1/5\n",
      "28/28 [==============================] - 1s 30ms/sample - loss: 2.8538 - acc: 0.5714 - val_loss: 2.9362 - val_acc: 0.4167\n",
      "Epoch 2/5\n",
      "28/28 [==============================] - 0s 9ms/sample - loss: 2.8538 - acc: 0.3571 - val_loss: 2.9362 - val_acc: 0.4167\n",
      "Epoch 3/5\n",
      "28/28 [==============================] - 0s 10ms/sample - loss: 2.8511 - acc: 0.2857 - val_loss: 2.9362 - val_acc: 0.4167\n",
      "Epoch 4/5\n",
      "28/28 [==============================] - 0s 9ms/sample - loss: 2.8565 - acc: 0.4643 - val_loss: 2.9362 - val_acc: 0.4167\n",
      "Epoch 5/5\n",
      "28/28 [==============================] - 0s 9ms/sample - loss: 2.8573 - acc: 0.2857 - val_loss: 2.9362 - val_acc: 0.4167\n"
     ]
    }
   ],
   "source": [
    "history = personnel_model.fit(x_train1, y_train1, validation_data=(x_test1,y_test1), epochs = 5)"
   ]
  },
  {
   "cell_type": "code",
   "execution_count": 109,
   "id": "1b45f7fc",
   "metadata": {
    "scrolled": true
   },
   "outputs": [
    {
     "name": "stdout",
     "output_type": "stream",
     "text": [
      "(12,)\n",
      "(12,)\n",
      "Training Accuracy: 0.4166666666666667\n"
     ]
    }
   ],
   "source": [
    "from sklearn.metrics import accuracy_score\n",
    "pred = personnel_model.predict(x_test1)\n",
    "predict_classes = np.argmax(pred,axis=1)\n",
    "expected_classes = np.argmax(y_test1,axis=1)\n",
    "print(expected_classes.shape)\n",
    "print(predict_classes.shape)\n",
    "correct = accuracy_score(expected_classes,predict_classes)\n",
    "print(f\"Training Accuracy: {correct}\")"
   ]
  },
  {
   "cell_type": "code",
   "execution_count": null,
   "id": "ea278f64",
   "metadata": {},
   "outputs": [],
   "source": []
  }
 ],
 "metadata": {
  "kernelspec": {
   "display_name": "Python 3 (ipykernel)",
   "language": "python",
   "name": "python3"
  },
  "language_info": {
   "codemirror_mode": {
    "name": "ipython",
    "version": 3
   },
   "file_extension": ".py",
   "mimetype": "text/x-python",
   "name": "python",
   "nbconvert_exporter": "python",
   "pygments_lexer": "ipython3",
   "version": "3.7.10"
  }
 },
 "nbformat": 4,
 "nbformat_minor": 5
}
