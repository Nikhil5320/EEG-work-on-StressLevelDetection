{
 "cells": [
  {
   "cell_type": "code",
   "execution_count": 1,
   "id": "3ec05c61",
   "metadata": {},
   "outputs": [],
   "source": [
    "from keras.models import Sequential\n",
    "from keras.layers import Dense\n",
    "from keras.layers import LSTM\n",
    "from tensorflow import keras\n",
    "from tensorflow.keras import layers"
   ]
  },
  {
   "cell_type": "code",
   "execution_count": 44,
   "id": "4875b348",
   "metadata": {},
   "outputs": [],
   "source": [
    "base_model = keras.models.load_model(\"LSTM_DeapDataset_SavedModel/\")"
   ]
  },
  {
   "cell_type": "code",
   "execution_count": 45,
   "id": "5416d8f0",
   "metadata": {},
   "outputs": [
    {
     "name": "stdout",
     "output_type": "stream",
     "text": [
      "Model: \"sequential_2\"\n",
      "_________________________________________________________________\n",
      "Layer (type)                 Output Shape              Param #   \n",
      "=================================================================\n",
      "lstm_4 (LSTM)                (None, 40, 128)           4194816   \n",
      "_________________________________________________________________\n",
      "dropout_4 (Dropout)          (None, 40, 128)           0         \n",
      "_________________________________________________________________\n",
      "lstm_5 (LSTM)                (None, 128)               131584    \n",
      "_________________________________________________________________\n",
      "dropout_5 (Dropout)          (None, 128)               0         \n",
      "_________________________________________________________________\n",
      "dense_2 (Dense)              (None, 10)                1290      \n",
      "=================================================================\n",
      "Total params: 4,327,690\n",
      "Trainable params: 4,327,690\n",
      "Non-trainable params: 0\n",
      "_________________________________________________________________\n"
     ]
    }
   ],
   "source": [
    "base_model.summary()"
   ]
  },
  {
   "cell_type": "code",
   "execution_count": 41,
   "id": "b507212b",
   "metadata": {},
   "outputs": [],
   "source": [
    "base_model.trainable = False"
   ]
  },
  {
   "cell_type": "code",
   "execution_count": 46,
   "id": "6fe2df52",
   "metadata": {},
   "outputs": [],
   "source": [
    "b_inputs = base_model.layers[0]\n",
    "b_inputs1 = base_model.layers[2]\n",
    "final_outputs = layers.Dense(10, activation='softmax')"
   ]
  },
  {
   "cell_type": "code",
   "execution_count": 47,
   "id": "2c4274c7",
   "metadata": {},
   "outputs": [],
   "source": [
    "personnel_model = Sequential()\n",
    "\n",
    "personnel_model.add(b_inputs)\n",
    "personnel_model.add(b_inputs1)\n",
    "#personnel_model.add(layers.Dense(10, activation='sigmoid'))\n",
    "personnel_model.add(final_outputs)"
   ]
  },
  {
   "cell_type": "code",
   "execution_count": 48,
   "id": "6cdc3ab8",
   "metadata": {},
   "outputs": [
    {
     "name": "stdout",
     "output_type": "stream",
     "text": [
      "Model: \"sequential_3\"\n",
      "_________________________________________________________________\n",
      "Layer (type)                 Output Shape              Param #   \n",
      "=================================================================\n",
      "lstm_4 (LSTM)                (None, 40, 128)           4194816   \n",
      "_________________________________________________________________\n",
      "lstm_5 (LSTM)                (None, 128)               131584    \n",
      "_________________________________________________________________\n",
      "dense_3 (Dense)              (None, 10)                1290      \n",
      "=================================================================\n",
      "Total params: 4,327,690\n",
      "Trainable params: 4,327,690\n",
      "Non-trainable params: 0\n",
      "_________________________________________________________________\n"
     ]
    }
   ],
   "source": [
    "personnel_model.summary()"
   ]
  },
  {
   "cell_type": "code",
   "execution_count": 49,
   "id": "525ebafe",
   "metadata": {},
   "outputs": [],
   "source": [
    "personnel_model.compile(loss = 'categorical_crossentropy', optimizer = \"adam\", metrics = ['accuracy'])"
   ]
  },
  {
   "cell_type": "code",
   "execution_count": 50,
   "id": "8ebed505",
   "metadata": {},
   "outputs": [],
   "source": [
    "import json\n",
    "import numpy\n",
    "from sklearn.model_selection import train_test_split"
   ]
  },
  {
   "cell_type": "code",
   "execution_count": 66,
   "id": "e06ba79e",
   "metadata": {},
   "outputs": [
    {
     "name": "stdout",
     "output_type": "stream",
     "text": [
      "01\n"
     ]
    }
   ],
   "source": [
    "dicty = {'labels':[]}\n",
    "x = []\n",
    "for i in [\"01\"]:\n",
    "    d = open('data_preprocessed_python/data_json/'+i)\n",
    "    d = json.load(d)\n",
    "    if(i == '01'):\n",
    "        x = numpy.array(d['data'])\n",
    "    else:\n",
    "        x = numpy.concatenate((x, numpy.array(d['data'])), axis=0)\n",
    "    dicty['labels'] += d['labels']\n",
    "    print(i)"
   ]
  },
  {
   "cell_type": "code",
   "execution_count": 67,
   "id": "2ff47663",
   "metadata": {},
   "outputs": [
    {
     "name": "stdout",
     "output_type": "stream",
     "text": [
      "(40, 40, 8064) (40, 10)\n"
     ]
    }
   ],
   "source": [
    "y =[]\n",
    "for i in dicty['labels']:\n",
    "    temp = [0]*10\n",
    "    temp[int(i[1])-1] = 1\n",
    "    y.append(temp)\n",
    "y = numpy.array(y)\n",
    "print(x.shape, y.shape)"
   ]
  },
  {
   "cell_type": "code",
   "execution_count": 68,
   "id": "ae82cf78",
   "metadata": {},
   "outputs": [],
   "source": [
    "x_train, x_test, y_train, y_test = train_test_split(x, y, test_size=0.1)"
   ]
  },
  {
   "cell_type": "code",
   "execution_count": 54,
   "id": "37d5bbad",
   "metadata": {},
   "outputs": [
    {
     "name": "stdout",
     "output_type": "stream",
     "text": [
      "EEG recordings of all 40 channels when the first video is played :\n",
      " [[ 9.48231681e-01  1.65333533e+00  3.01372577e+00 ... -2.82648937e+00\n",
      "  -4.47722969e+00 -3.67692812e+00]\n",
      " [ 1.24706590e-01  1.39008270e+00  1.83509881e+00 ... -2.98702069e+00\n",
      "  -6.28780884e+00 -4.47429041e+00]\n",
      " [-2.21651099e+00  2.29201682e+00  2.74636923e+00 ... -2.63707760e+00\n",
      "  -7.40651010e+00 -6.75590441e+00]\n",
      " ...\n",
      " [ 2.30779684e+02  6.96716323e+02  1.19512165e+03 ...  1.01080949e+03\n",
      "   1.28312149e+03  1.51996480e+03]\n",
      " [-1.54180981e+03 -1.61798052e+03 -1.69268642e+03 ... -1.57842691e+04\n",
      "  -1.57823160e+04 -1.57808512e+04]\n",
      " [ 6.39054310e-03  6.39054310e-03  6.39054310e-03 ... -9.76081241e-02\n",
      "  -9.76081241e-02 -9.76081241e-02]]\n",
      "\n",
      "Readings(valence, arousal, dominance, liking) for the First video :  [0 0 0 0 0 0 1 0 0 0]\n"
     ]
    }
   ],
   "source": [
    "print(\"EEG recordings of all 40 channels when the first video is played :\\n\",x[0])\n",
    "print(\"\\nReadings(valence, arousal, dominance, liking) for the First video : \",y[0])"
   ]
  },
  {
   "cell_type": "code",
   "execution_count": 55,
   "id": "828e06fc",
   "metadata": {},
   "outputs": [
    {
     "name": "stdout",
     "output_type": "stream",
     "text": [
      "Epoch 1/20\n",
      "2/2 [==============================] - 1s 464ms/step - loss: 4091.9045 - accuracy: 0.0278 - val_loss: 2.4474 - val_accuracy: 0.2500\n",
      "Epoch 2/20\n",
      "2/2 [==============================] - 1s 293ms/step - loss: 7.0889 - accuracy: 0.2222 - val_loss: 1.9762 - val_accuracy: 0.5000\n",
      "Epoch 3/20\n",
      "2/2 [==============================] - 1s 301ms/step - loss: 9.1169 - accuracy: 0.2222 - val_loss: 2.2978 - val_accuracy: 0.5000\n",
      "Epoch 4/20\n",
      "2/2 [==============================] - 1s 299ms/step - loss: 6.5944 - accuracy: 0.2500 - val_loss: 2.2966 - val_accuracy: 0.5000\n",
      "Epoch 5/20\n",
      "2/2 [==============================] - 1s 299ms/step - loss: 3.6729 - accuracy: 0.3056 - val_loss: 2.2953 - val_accuracy: 0.5000\n",
      "Epoch 6/20\n",
      "2/2 [==============================] - 1s 291ms/step - loss: 3.7074 - accuracy: 0.3056 - val_loss: 2.2939 - val_accuracy: 0.5000\n",
      "Epoch 7/20\n",
      "2/2 [==============================] - 1s 295ms/step - loss: 2.0240 - accuracy: 0.2778 - val_loss: 2.2959 - val_accuracy: 0.5000\n",
      "Epoch 8/20\n",
      "2/2 [==============================] - 1s 288ms/step - loss: 2.1791 - accuracy: 0.3056 - val_loss: 2.2908 - val_accuracy: 0.5000\n",
      "Epoch 9/20\n",
      "2/2 [==============================] - 1s 288ms/step - loss: 2.2302 - accuracy: 0.2778 - val_loss: 2.2894 - val_accuracy: 0.5000\n",
      "Epoch 10/20\n",
      "2/2 [==============================] - 1s 291ms/step - loss: 2.1080 - accuracy: 0.3056 - val_loss: 2.2906 - val_accuracy: 0.5000\n",
      "Epoch 11/20\n",
      "2/2 [==============================] - 1s 298ms/step - loss: 2.0363 - accuracy: 0.2778 - val_loss: 2.2873 - val_accuracy: 0.5000\n",
      "Epoch 12/20\n",
      "2/2 [==============================] - 1s 311ms/step - loss: 2.8110 - accuracy: 0.3056 - val_loss: 2.2884 - val_accuracy: 0.5000\n",
      "Epoch 13/20\n",
      "2/2 [==============================] - 1s 296ms/step - loss: 1.9849 - accuracy: 0.2778 - val_loss: 2.2873 - val_accuracy: 0.5000\n",
      "Epoch 14/20\n",
      "2/2 [==============================] - 1s 303ms/step - loss: 2.0130 - accuracy: 0.2500 - val_loss: 2.2862 - val_accuracy: 0.5000\n",
      "Epoch 15/20\n",
      "2/2 [==============================] - 1s 310ms/step - loss: 1.9869 - accuracy: 0.2500 - val_loss: 2.2850 - val_accuracy: 0.5000\n",
      "Epoch 16/20\n",
      "2/2 [==============================] - 1s 403ms/step - loss: 1.9430 - accuracy: 0.2778 - val_loss: 2.2836 - val_accuracy: 0.5000\n",
      "Epoch 17/20\n",
      "2/2 [==============================] - 1s 413ms/step - loss: 2.0181 - accuracy: 0.3056 - val_loss: 2.2821 - val_accuracy: 0.5000\n",
      "Epoch 18/20\n",
      "2/2 [==============================] - 1s 405ms/step - loss: 1.9171 - accuracy: 0.3333 - val_loss: 2.2808 - val_accuracy: 0.5000\n",
      "Epoch 19/20\n",
      "2/2 [==============================] - 1s 398ms/step - loss: 1.9093 - accuracy: 0.3333 - val_loss: 2.2794 - val_accuracy: 0.5000\n",
      "Epoch 20/20\n",
      "2/2 [==============================] - 1s 392ms/step - loss: 1.9042 - accuracy: 0.3333 - val_loss: 2.2779 - val_accuracy: 0.5000\n"
     ]
    }
   ],
   "source": [
    "history = personnel_model.fit(x_train, y_train, validation_data=(x_test,y_test), epochs = 20)"
   ]
  },
  {
   "cell_type": "code",
   "execution_count": 69,
   "id": "6ceede49",
   "metadata": {},
   "outputs": [],
   "source": [
    "base_model.trainable = True"
   ]
  },
  {
   "cell_type": "code",
   "execution_count": 70,
   "id": "018b643c",
   "metadata": {},
   "outputs": [],
   "source": [
    "personnel_model.compile(loss = 'categorical_crossentropy', optimizer = \"adam\", metrics = ['accuracy'])"
   ]
  },
  {
   "cell_type": "code",
   "execution_count": 71,
   "id": "43109ded",
   "metadata": {},
   "outputs": [
    {
     "name": "stdout",
     "output_type": "stream",
     "text": [
      "Epoch 1/20\n",
      "2/2 [==============================] - 1s 475ms/step - loss: 1.7958 - accuracy: 0.3611 - val_loss: 1.2725 - val_accuracy: 0.7500\n",
      "Epoch 2/20\n",
      "2/2 [==============================] - 1s 310ms/step - loss: 1.7915 - accuracy: 0.3889 - val_loss: 1.2721 - val_accuracy: 0.7500\n",
      "Epoch 3/20\n",
      "2/2 [==============================] - 1s 311ms/step - loss: 1.9477 - accuracy: 0.4444 - val_loss: 1.2648 - val_accuracy: 0.7500\n",
      "Epoch 4/20\n",
      "2/2 [==============================] - 1s 307ms/step - loss: 1.7132 - accuracy: 0.4722 - val_loss: 1.2647 - val_accuracy: 0.7500\n",
      "Epoch 5/20\n",
      "2/2 [==============================] - 1s 294ms/step - loss: 1.6393 - accuracy: 0.4444 - val_loss: 1.2611 - val_accuracy: 0.7500\n",
      "Epoch 6/20\n",
      "2/2 [==============================] - 1s 296ms/step - loss: 1.6402 - accuracy: 0.4444 - val_loss: 1.2583 - val_accuracy: 0.7500\n",
      "Epoch 7/20\n",
      "2/2 [==============================] - 1s 294ms/step - loss: 1.6518 - accuracy: 0.4167 - val_loss: 1.2559 - val_accuracy: 0.7500\n",
      "Epoch 8/20\n",
      "2/2 [==============================] - 1s 330ms/step - loss: 1.6234 - accuracy: 0.4167 - val_loss: 1.2503 - val_accuracy: 0.7500\n",
      "Epoch 9/20\n",
      "2/2 [==============================] - 1s 299ms/step - loss: 1.5973 - accuracy: 0.3889 - val_loss: 1.2455 - val_accuracy: 0.7500\n",
      "Epoch 10/20\n",
      "2/2 [==============================] - 1s 325ms/step - loss: 1.6090 - accuracy: 0.3889 - val_loss: 1.2412 - val_accuracy: 0.7500\n",
      "Epoch 11/20\n",
      "2/2 [==============================] - 1s 389ms/step - loss: 1.5869 - accuracy: 0.3889 - val_loss: 1.2373 - val_accuracy: 0.7500\n",
      "Epoch 12/20\n",
      "2/2 [==============================] - 1s 385ms/step - loss: 1.7203 - accuracy: 0.3889 - val_loss: 1.2351 - val_accuracy: 0.7500\n",
      "Epoch 13/20\n",
      "2/2 [==============================] - 1s 406ms/step - loss: 1.6385 - accuracy: 0.3611 - val_loss: 1.2331 - val_accuracy: 0.7500\n",
      "Epoch 14/20\n",
      "2/2 [==============================] - 1s 408ms/step - loss: 1.6302 - accuracy: 0.3889 - val_loss: 1.2318 - val_accuracy: 0.7500\n",
      "Epoch 15/20\n",
      "2/2 [==============================] - 1s 374ms/step - loss: 1.6607 - accuracy: 0.4167 - val_loss: 1.2309 - val_accuracy: 0.7500\n",
      "Epoch 16/20\n",
      "2/2 [==============================] - 1s 384ms/step - loss: 1.6571 - accuracy: 0.4167 - val_loss: 1.2301 - val_accuracy: 0.7500\n",
      "Epoch 17/20\n",
      "2/2 [==============================] - 1s 392ms/step - loss: 1.8105 - accuracy: 0.3889 - val_loss: 19.0515 - val_accuracy: 0.5000\n",
      "Epoch 18/20\n",
      "2/2 [==============================] - 1s 394ms/step - loss: 4.1714 - accuracy: 0.3889 - val_loss: 1.2313 - val_accuracy: 0.7500\n",
      "Epoch 19/20\n",
      "2/2 [==============================] - 1s 396ms/step - loss: 1.6845 - accuracy: 0.4444 - val_loss: 1.2214 - val_accuracy: 0.7500\n",
      "Epoch 20/20\n",
      "2/2 [==============================] - 1s 387ms/step - loss: 1.5320 - accuracy: 0.4722 - val_loss: 1.2100 - val_accuracy: 0.7500\n"
     ]
    }
   ],
   "source": [
    "history = personnel_model.fit(x_train, y_train, validation_data=(x_test,y_test), epochs = 20)"
   ]
  },
  {
   "cell_type": "code",
   "execution_count": 72,
   "id": "9378cbba",
   "metadata": {},
   "outputs": [
    {
     "name": "stdout",
     "output_type": "stream",
     "text": [
      "0.9999999701976776 [0.08857391 0.11053576 0.11484268 0.0906531  0.08778863 0.11205406\n",
      " 0.11159119 0.10742807 0.08811285 0.08841973] [0 0 1 0 0 0 0 0 0 0]\n",
      "(4,)\n",
      "(4,)\n",
      "Training Accuracy: 0.75\n"
     ]
    }
   ],
   "source": [
    "test = personnel_model.predict(x_test)\n",
    "print(sum(test[0]), test[0], y_test[0])\n",
    "\n",
    "from sklearn.metrics import accuracy_score\n",
    "pred = personnel_model.predict(x_test)\n",
    "predict_classes = numpy.argmax(pred,axis=1)\n",
    "expected_classes = numpy.argmax(y_test,axis=1)\n",
    "print(expected_classes.shape)\n",
    "print(predict_classes.shape)\n",
    "correct = accuracy_score(expected_classes,predict_classes)\n",
    "print(f\"Training Accuracy: {correct}\")"
   ]
  },
  {
   "cell_type": "code",
   "execution_count": 77,
   "id": "cffac555",
   "metadata": {},
   "outputs": [
    {
     "name": "stdout",
     "output_type": "stream",
     "text": [
      "06\n",
      "(40, 40, 8064) (40, 10)\n"
     ]
    }
   ],
   "source": [
    "dicty = {'labels':[]}\n",
    "x = []\n",
    "for i in [\"06\"]:\n",
    "    d = open('data_preprocessed_python/data_json/'+i)\n",
    "    d = json.load(d)\n",
    "    if(i == '06'):\n",
    "        x = numpy.array(d['data'])\n",
    "    else:\n",
    "        x = numpy.concatenate((x, numpy.array(d['data'])), axis=0)\n",
    "    dicty['labels'] += d['labels']\n",
    "    print(i)\n",
    "    \n",
    "y =[]\n",
    "for i in dicty['labels']:\n",
    "    temp = [0]*10\n",
    "    temp[int(i[1])-1] = 1\n",
    "    y.append(temp)\n",
    "y = numpy.array(y)\n",
    "print(x.shape, y.shape)\n",
    "\n",
    "x_train, x_test, y_train, y_test = train_test_split(x, y, test_size=0.1)"
   ]
  },
  {
   "cell_type": "code",
   "execution_count": 78,
   "id": "3023d7dc",
   "metadata": {},
   "outputs": [
    {
     "name": "stdout",
     "output_type": "stream",
     "text": [
      "EEG recordings of all 40 channels when the first video is played :\n",
      " [[ 9.48231681e-01  1.65333533e+00  3.01372577e+00 ... -2.82648937e+00\n",
      "  -4.47722969e+00 -3.67692812e+00]\n",
      " [ 1.24706590e-01  1.39008270e+00  1.83509881e+00 ... -2.98702069e+00\n",
      "  -6.28780884e+00 -4.47429041e+00]\n",
      " [-2.21651099e+00  2.29201682e+00  2.74636923e+00 ... -2.63707760e+00\n",
      "  -7.40651010e+00 -6.75590441e+00]\n",
      " ...\n",
      " [ 2.30779684e+02  6.96716323e+02  1.19512165e+03 ...  1.01080949e+03\n",
      "   1.28312149e+03  1.51996480e+03]\n",
      " [-1.54180981e+03 -1.61798052e+03 -1.69268642e+03 ... -1.57842691e+04\n",
      "  -1.57823160e+04 -1.57808512e+04]\n",
      " [ 6.39054310e-03  6.39054310e-03  6.39054310e-03 ... -9.76081241e-02\n",
      "  -9.76081241e-02 -9.76081241e-02]]\n",
      "\n",
      "Readings(valence, arousal, dominance, liking) for the First video :  [0 0 0 0 0 0 1 0 0 0]\n"
     ]
    }
   ],
   "source": [
    "print(\"EEG recordings of all 40 channels when the first video is played :\\n\",x[0])\n",
    "print(\"\\nReadings(valence, arousal, dominance, liking) for the First video : \",y[0])"
   ]
  },
  {
   "cell_type": "code",
   "execution_count": null,
   "id": "75d38c33",
   "metadata": {},
   "outputs": [],
   "source": [
    "base_model.trainable = True\n",
    "\n",
    "personnel_model.compile(loss = 'categorical_crossentropy', optimizer = \"adam\", metrics = ['accuracy'])\n",
    "\n",
    "history = personnel_model.fit(x_train, y_train, validation_data=(x_test,y_test), epochs = 20)"
   ]
  }
 ],
 "metadata": {
  "kernelspec": {
   "display_name": "Python 3",
   "language": "python",
   "name": "python3"
  },
  "language_info": {
   "codemirror_mode": {
    "name": "ipython",
    "version": 3
   },
   "file_extension": ".py",
   "mimetype": "text/x-python",
   "name": "python",
   "nbconvert_exporter": "python",
   "pygments_lexer": "ipython3",
   "version": "3.7.10"
  }
 },
 "nbformat": 4,
 "nbformat_minor": 5
}
