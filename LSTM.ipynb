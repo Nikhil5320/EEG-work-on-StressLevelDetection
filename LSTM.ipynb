{
 "cells": [
  {
   "cell_type": "code",
   "execution_count": 3,
   "metadata": {},
   "outputs": [],
   "source": [
    "import numpy\n",
    "import matplotlib.pyplot as plt\n",
    "import pandas as pd\n",
    "import numpy as np"
   ]
  },
  {
   "cell_type": "code",
   "execution_count": 4,
   "metadata": {},
   "outputs": [],
   "source": [
    "from keras.models import Sequential\n",
    "from keras.layers import Dense\n",
    "from keras.layers import LSTM"
   ]
  },
  {
   "cell_type": "code",
   "execution_count": 5,
   "metadata": {},
   "outputs": [
    {
     "data": {
      "text/html": [
       "<div>\n",
       "<style scoped>\n",
       "    .dataframe tbody tr th:only-of-type {\n",
       "        vertical-align: middle;\n",
       "    }\n",
       "\n",
       "    .dataframe tbody tr th {\n",
       "        vertical-align: top;\n",
       "    }\n",
       "\n",
       "    .dataframe thead th {\n",
       "        text-align: right;\n",
       "    }\n",
       "</style>\n",
       "<table border=\"1\" class=\"dataframe\">\n",
       "  <thead>\n",
       "    <tr style=\"text-align: right;\">\n",
       "      <th></th>\n",
       "      <th>MEAN</th>\n",
       "      <th>MAX</th>\n",
       "      <th>MIN</th>\n",
       "      <th>RANGE</th>\n",
       "      <th>KURT</th>\n",
       "      <th>SKEW</th>\n",
       "      <th>MEAN_1ST_GRAD</th>\n",
       "      <th>STD_1ST_GRAD</th>\n",
       "      <th>MEAN_2ND_GRAD</th>\n",
       "      <th>STD_2ND_GRAD</th>\n",
       "      <th>...</th>\n",
       "      <th>MIN_ONSET_LOG</th>\n",
       "      <th>MIN_ONSET_SQRT</th>\n",
       "      <th>MAX_ONSET_LOG</th>\n",
       "      <th>MAX_ONSET_SQRT</th>\n",
       "      <th>STD_ONSET_YEO_JON</th>\n",
       "      <th>MEAN_ONSET_LOG</th>\n",
       "      <th>MEAN_ONSET_SQRT</th>\n",
       "      <th>NasaTLX</th>\n",
       "      <th>subject_id</th>\n",
       "      <th>condition</th>\n",
       "    </tr>\n",
       "  </thead>\n",
       "  <tbody>\n",
       "    <tr>\n",
       "      <th>0</th>\n",
       "      <td>0.000735</td>\n",
       "      <td>0.001764</td>\n",
       "      <td>0.000177</td>\n",
       "      <td>0.001587</td>\n",
       "      <td>0.543036</td>\n",
       "      <td>0.965257</td>\n",
       "      <td>1.850634e-05</td>\n",
       "      <td>0.000306</td>\n",
       "      <td>0.000023</td>\n",
       "      <td>0.000262</td>\n",
       "      <td>...</td>\n",
       "      <td>0.721074</td>\n",
       "      <td>1.027930</td>\n",
       "      <td>3.154608</td>\n",
       "      <td>4.737494</td>\n",
       "      <td>1.456944</td>\n",
       "      <td>1.625915</td>\n",
       "      <td>2.020660</td>\n",
       "      <td>27.6</td>\n",
       "      <td>2.0</td>\n",
       "      <td>2</td>\n",
       "    </tr>\n",
       "    <tr>\n",
       "      <th>1</th>\n",
       "      <td>0.000691</td>\n",
       "      <td>0.001764</td>\n",
       "      <td>0.000198</td>\n",
       "      <td>0.001566</td>\n",
       "      <td>0.950346</td>\n",
       "      <td>1.039783</td>\n",
       "      <td>-5.712810e-07</td>\n",
       "      <td>0.000275</td>\n",
       "      <td>0.000003</td>\n",
       "      <td>0.000242</td>\n",
       "      <td>...</td>\n",
       "      <td>0.721074</td>\n",
       "      <td>1.027930</td>\n",
       "      <td>3.084339</td>\n",
       "      <td>4.566512</td>\n",
       "      <td>1.381432</td>\n",
       "      <td>1.583538</td>\n",
       "      <td>1.967781</td>\n",
       "      <td>60.7</td>\n",
       "      <td>1.0</td>\n",
       "      <td>1</td>\n",
       "    </tr>\n",
       "    <tr>\n",
       "      <th>2</th>\n",
       "      <td>0.003698</td>\n",
       "      <td>0.010928</td>\n",
       "      <td>0.001505</td>\n",
       "      <td>0.009423</td>\n",
       "      <td>4.888562</td>\n",
       "      <td>2.204727</td>\n",
       "      <td>9.236140e-04</td>\n",
       "      <td>0.004557</td>\n",
       "      <td>-0.002940</td>\n",
       "      <td>0.004265</td>\n",
       "      <td>...</td>\n",
       "      <td>2.529238</td>\n",
       "      <td>3.397638</td>\n",
       "      <td>4.231222</td>\n",
       "      <td>8.234153</td>\n",
       "      <td>2.852115</td>\n",
       "      <td>3.740398</td>\n",
       "      <td>6.412078</td>\n",
       "      <td>62.6</td>\n",
       "      <td>5.0</td>\n",
       "      <td>2</td>\n",
       "    </tr>\n",
       "    <tr>\n",
       "      <th>3</th>\n",
       "      <td>0.003681</td>\n",
       "      <td>0.010928</td>\n",
       "      <td>0.001689</td>\n",
       "      <td>0.009239</td>\n",
       "      <td>6.399756</td>\n",
       "      <td>2.479169</td>\n",
       "      <td>-1.615331e-03</td>\n",
       "      <td>0.003109</td>\n",
       "      <td>0.001296</td>\n",
       "      <td>0.002037</td>\n",
       "      <td>...</td>\n",
       "      <td>2.529238</td>\n",
       "      <td>3.397638</td>\n",
       "      <td>4.203095</td>\n",
       "      <td>8.117454</td>\n",
       "      <td>2.521958</td>\n",
       "      <td>3.471639</td>\n",
       "      <td>5.584752</td>\n",
       "      <td>62.6</td>\n",
       "      <td>5.0</td>\n",
       "      <td>2</td>\n",
       "    </tr>\n",
       "    <tr>\n",
       "      <th>4</th>\n",
       "      <td>0.002909</td>\n",
       "      <td>0.007620</td>\n",
       "      <td>0.000802</td>\n",
       "      <td>0.006818</td>\n",
       "      <td>0.117454</td>\n",
       "      <td>1.000727</td>\n",
       "      <td>2.749421e-04</td>\n",
       "      <td>0.001386</td>\n",
       "      <td>0.000273</td>\n",
       "      <td>0.001333</td>\n",
       "      <td>...</td>\n",
       "      <td>1.188968</td>\n",
       "      <td>1.511189</td>\n",
       "      <td>3.259410</td>\n",
       "      <td>5.003417</td>\n",
       "      <td>2.003418</td>\n",
       "      <td>2.540301</td>\n",
       "      <td>3.418112</td>\n",
       "      <td>73.0</td>\n",
       "      <td>5.0</td>\n",
       "      <td>0</td>\n",
       "    </tr>\n",
       "  </tbody>\n",
       "</table>\n",
       "<p>5 rows × 61 columns</p>\n",
       "</div>"
      ],
      "text/plain": [
       "       MEAN       MAX       MIN     RANGE      KURT      SKEW  MEAN_1ST_GRAD  \\\n",
       "0  0.000735  0.001764  0.000177  0.001587  0.543036  0.965257   1.850634e-05   \n",
       "1  0.000691  0.001764  0.000198  0.001566  0.950346  1.039783  -5.712810e-07   \n",
       "2  0.003698  0.010928  0.001505  0.009423  4.888562  2.204727   9.236140e-04   \n",
       "3  0.003681  0.010928  0.001689  0.009239  6.399756  2.479169  -1.615331e-03   \n",
       "4  0.002909  0.007620  0.000802  0.006818  0.117454  1.000727   2.749421e-04   \n",
       "\n",
       "   STD_1ST_GRAD  MEAN_2ND_GRAD  STD_2ND_GRAD  ...  MIN_ONSET_LOG  \\\n",
       "0      0.000306       0.000023      0.000262  ...       0.721074   \n",
       "1      0.000275       0.000003      0.000242  ...       0.721074   \n",
       "2      0.004557      -0.002940      0.004265  ...       2.529238   \n",
       "3      0.003109       0.001296      0.002037  ...       2.529238   \n",
       "4      0.001386       0.000273      0.001333  ...       1.188968   \n",
       "\n",
       "   MIN_ONSET_SQRT  MAX_ONSET_LOG  MAX_ONSET_SQRT  STD_ONSET_YEO_JON  \\\n",
       "0        1.027930       3.154608        4.737494           1.456944   \n",
       "1        1.027930       3.084339        4.566512           1.381432   \n",
       "2        3.397638       4.231222        8.234153           2.852115   \n",
       "3        3.397638       4.203095        8.117454           2.521958   \n",
       "4        1.511189       3.259410        5.003417           2.003418   \n",
       "\n",
       "   MEAN_ONSET_LOG  MEAN_ONSET_SQRT  NasaTLX  subject_id  condition  \n",
       "0        1.625915         2.020660     27.6         2.0          2  \n",
       "1        1.583538         1.967781     60.7         1.0          1  \n",
       "2        3.740398         6.412078     62.6         5.0          2  \n",
       "3        3.471639         5.584752     62.6         5.0          2  \n",
       "4        2.540301         3.418112     73.0         5.0          0  \n",
       "\n",
       "[5 rows x 61 columns]"
      ]
     },
     "execution_count": 5,
     "metadata": {},
     "output_type": "execute_result"
    }
   ],
   "source": [
    "df = pd.read_csv(\"test.csv\")\n",
    "df.head()"
   ]
  },
  {
   "cell_type": "code",
   "execution_count": 6,
   "metadata": {},
   "outputs": [
    {
     "data": {
      "text/plain": [
       "<AxesSubplot:xlabel='condition', ylabel='count'>"
      ]
     },
     "execution_count": 6,
     "metadata": {},
     "output_type": "execute_result"
    },
    {
     "data": {
      "image/png": "[encoded data removed]",
      "text/plain": [
       "<Figure size 432x288 with 1 Axes>"
      ]
     },
     "metadata": {
      "needs_background": "light"
     },
     "output_type": "display_data"
    }
   ],
   "source": [
    "import seaborn as sns\n",
    "sns.countplot(x='condition', data=df)"
   ]
  },
  {
   "cell_type": "code",
   "execution_count": 13,
   "metadata": {},
   "outputs": [
    {
     "data": {
      "text/plain": [
       "MEAN               0\n",
       "MAX                0\n",
       "MIN                0\n",
       "RANGE              0\n",
       "KURT               0\n",
       "                  ..\n",
       "MEAN_ONSET_LOG     0\n",
       "MEAN_ONSET_SQRT    0\n",
       "NasaTLX            0\n",
       "subject_id         0\n",
       "condition          0\n",
       "Length: 61, dtype: int64"
      ]
     },
     "execution_count": 13,
     "metadata": {},
     "output_type": "execute_result"
    }
   ],
   "source": [
    "df.isnull().sum()"
   ]
  },
  {
   "cell_type": "code",
   "execution_count": 14,
   "metadata": {},
   "outputs": [
    {
     "data": {
      "text/plain": [
       "array([2, 1, 0], dtype=int64)"
      ]
     },
     "execution_count": 14,
     "metadata": {},
     "output_type": "execute_result"
    }
   ],
   "source": [
    "df['condition'].unique()"
   ]
  },
  {
   "cell_type": "code",
   "execution_count": 15,
   "metadata": {},
   "outputs": [
    {
     "data": {
      "text/plain": [
       "(4772, 59)"
      ]
     },
     "execution_count": 15,
     "metadata": {},
     "output_type": "execute_result"
    }
   ],
   "source": [
    "x=df.drop([\"condition\"]  ,axis=1)\n",
    "x=x.drop([\"subject_id\"]  ,axis=1)\n",
    "x.shape"
   ]
  },
  {
   "cell_type": "code",
   "execution_count": 16,
   "metadata": {},
   "outputs": [
    {
     "data": {
      "text/plain": [
       "(4772,)"
      ]
     },
     "execution_count": 16,
     "metadata": {},
     "output_type": "execute_result"
    }
   ],
   "source": [
    "y = df.loc[:,'condition'].values\n",
    "y.shape"
   ]
  },
  {
   "cell_type": "code",
   "execution_count": 17,
   "metadata": {},
   "outputs": [],
   "source": [
    "from sklearn.preprocessing import StandardScaler\n",
    "scaler = StandardScaler()\n",
    "scaler.fit(x)\n",
    "x = scaler.transform(x)\n",
    "from keras.utils import to_categorical\n",
    "y = to_categorical(y)"
   ]
  },
  {
   "cell_type": "code",
   "execution_count": 18,
   "metadata": {},
   "outputs": [
    {
     "data": {
      "text/plain": [
       "array([[0., 0., 1.],\n",
       "       [0., 1., 0.],\n",
       "       [0., 0., 1.],\n",
       "       ...,\n",
       "       [1., 0., 0.],\n",
       "       [0., 1., 0.],\n",
       "       [0., 1., 0.]], dtype=float32)"
      ]
     },
     "execution_count": 18,
     "metadata": {},
     "output_type": "execute_result"
    }
   ],
   "source": [
    "y"
   ]
  },
  {
   "cell_type": "code",
   "execution_count": 19,
   "metadata": {},
   "outputs": [],
   "source": [
    "from sklearn.model_selection import train_test_split\n",
    "x_train, x_test, y_train, y_test = train_test_split(x, y, test_size = 0.2, random_state = 4)"
   ]
  },
  {
   "cell_type": "code",
   "execution_count": 20,
   "metadata": {},
   "outputs": [],
   "source": [
    "x_train = np.reshape(x_train, (x_train.shape[0],1,x.shape[1]))\n",
    "x_test = np.reshape(x_test, (x_test.shape[0],1,x.shape[1]))"
   ]
  },
  {
   "cell_type": "code",
   "execution_count": 21,
   "metadata": {},
   "outputs": [
    {
     "data": {
      "text/plain": [
       "(3817, 1, 59)"
      ]
     },
     "execution_count": 21,
     "metadata": {},
     "output_type": "execute_result"
    }
   ],
   "source": [
    "x_train.shape"
   ]
  },
  {
   "cell_type": "code",
   "execution_count": 168,
   "metadata": {},
   "outputs": [
    {
     "name": "stdout",
     "output_type": "stream",
     "text": [
      "Model: \"sequential\"\n",
      "_________________________________________________________________\n",
      "Layer (type)                 Output Shape              Param #   \n",
      "=================================================================\n",
      "lstm (LSTM)                  (None, 1, 64)             31744     \n",
      "_________________________________________________________________\n",
      "dropout (Dropout)            (None, 1, 64)             0         \n",
      "_________________________________________________________________\n",
      "lstm_1 (LSTM)                (None, 32)                12416     \n",
      "_________________________________________________________________\n",
      "dropout_1 (Dropout)          (None, 32)                0         \n",
      "_________________________________________________________________\n",
      "dense (Dense)                (None, 3)                 99        \n",
      "=================================================================\n",
      "Total params: 44,259\n",
      "Trainable params: 44,259\n",
      "Non-trainable params: 0\n",
      "_________________________________________________________________\n"
     ]
    }
   ],
   "source": [
    "import tensorflow as tf\n",
    "from tensorflow.keras import Sequential\n",
    "\n",
    "from tensorflow.keras.layers import Dense, Dropout\n",
    "from tensorflow.keras.layers import Embedding\n",
    "from tensorflow.keras.layers import LSTM\n",
    "tf.keras.backend.clear_session()\n",
    "\n",
    "model = Sequential()\n",
    "model.add(LSTM(64, input_shape=(1,59),activation=\"relu\",return_sequences=True))\n",
    "model.add(Dropout(0.2))\n",
    "model.add(LSTM(32,activation=\"sigmoid\"))\n",
    "model.add(Dropout(0.2))\n",
    "model.add(Dense(3, activation='sigmoid'))\n",
    "from keras.optimizers import SGD\n",
    "model.compile(loss = 'categorical_crossentropy', optimizer = \"adam\", metrics = ['accuracy'])\n",
    "model.summary()"
   ]
  },
  {
   "cell_type": "code",
   "execution_count": 169,
   "metadata": {},
   "outputs": [
    {
     "name": "stdout",
     "output_type": "stream",
     "text": [
      "Epoch 1/100\n",
      "120/120 [==============================] - 1s 5ms/step - loss: 0.9943 - accuracy: 0.5064 - val_loss: 0.8526 - val_accuracy: 0.6220\n",
      "Epoch 2/100\n",
      "120/120 [==============================] - 0s 2ms/step - loss: 0.7488 - accuracy: 0.7160 - val_loss: 0.6367 - val_accuracy: 0.7539\n",
      "Epoch 3/100\n",
      "120/120 [==============================] - 0s 2ms/step - loss: 0.5902 - accuracy: 0.7802 - val_loss: 0.4888 - val_accuracy: 0.8272\n",
      "Epoch 4/100\n",
      "120/120 [==============================] - 0s 2ms/step - loss: 0.4743 - accuracy: 0.8192 - val_loss: 0.3734 - val_accuracy: 0.8743\n",
      "Epoch 5/100\n",
      "120/120 [==============================] - 0s 2ms/step - loss: 0.3831 - accuracy: 0.8625 - val_loss: 0.2881 - val_accuracy: 0.9173\n",
      "Epoch 6/100\n",
      "120/120 [==============================] - 0s 2ms/step - loss: 0.3152 - accuracy: 0.8942 - val_loss: 0.2218 - val_accuracy: 0.9403\n",
      "Epoch 7/100\n",
      "120/120 [==============================] - 0s 3ms/step - loss: 0.2647 - accuracy: 0.9151 - val_loss: 0.1733 - val_accuracy: 0.9665\n",
      "Epoch 8/100\n",
      "120/120 [==============================] - 0s 2ms/step - loss: 0.2137 - accuracy: 0.9379 - val_loss: 0.1330 - val_accuracy: 0.9801\n",
      "Epoch 9/100\n",
      "120/120 [==============================] - 0s 2ms/step - loss: 0.1771 - accuracy: 0.9489 - val_loss: 0.1054 - val_accuracy: 0.9874\n",
      "Epoch 10/100\n",
      "120/120 [==============================] - 0s 2ms/step - loss: 0.1508 - accuracy: 0.9557 - val_loss: 0.0805 - val_accuracy: 0.9906\n",
      "Epoch 11/100\n",
      "120/120 [==============================] - 0s 2ms/step - loss: 0.1286 - accuracy: 0.9628 - val_loss: 0.0671 - val_accuracy: 0.9937\n",
      "Epoch 12/100\n",
      "120/120 [==============================] - 0s 2ms/step - loss: 0.1109 - accuracy: 0.9678 - val_loss: 0.0516 - val_accuracy: 0.9948\n",
      "Epoch 13/100\n",
      "120/120 [==============================] - 0s 2ms/step - loss: 0.0946 - accuracy: 0.9735 - val_loss: 0.0422 - val_accuracy: 0.9937\n",
      "Epoch 14/100\n",
      "120/120 [==============================] - 0s 2ms/step - loss: 0.0787 - accuracy: 0.9801 - val_loss: 0.0335 - val_accuracy: 0.9969\n",
      "Epoch 15/100\n",
      "120/120 [==============================] - 0s 2ms/step - loss: 0.0721 - accuracy: 0.9824 - val_loss: 0.0293 - val_accuracy: 0.9969\n",
      "Epoch 16/100\n",
      "120/120 [==============================] - 0s 2ms/step - loss: 0.0631 - accuracy: 0.9838 - val_loss: 0.0216 - val_accuracy: 0.9990\n",
      "Epoch 17/100\n",
      "120/120 [==============================] - 0s 2ms/step - loss: 0.0592 - accuracy: 0.9861 - val_loss: 0.0175 - val_accuracy: 0.9990\n",
      "Epoch 18/100\n",
      "120/120 [==============================] - 0s 2ms/step - loss: 0.0539 - accuracy: 0.9848 - val_loss: 0.0139 - val_accuracy: 1.0000\n",
      "Epoch 19/100\n",
      "120/120 [==============================] - 0s 2ms/step - loss: 0.0450 - accuracy: 0.9903 - val_loss: 0.0119 - val_accuracy: 1.0000\n",
      "Epoch 20/100\n",
      "120/120 [==============================] - 0s 2ms/step - loss: 0.0367 - accuracy: 0.9924 - val_loss: 0.0099 - val_accuracy: 1.0000\n",
      "Epoch 21/100\n",
      "120/120 [==============================] - 0s 2ms/step - loss: 0.0346 - accuracy: 0.9921 - val_loss: 0.0086 - val_accuracy: 1.0000\n",
      "Epoch 22/100\n",
      "120/120 [==============================] - 0s 3ms/step - loss: 0.0373 - accuracy: 0.9911 - val_loss: 0.0073 - val_accuracy: 1.0000\n",
      "Epoch 23/100\n",
      "120/120 [==============================] - 0s 3ms/step - loss: 0.0366 - accuracy: 0.9898 - val_loss: 0.0066 - val_accuracy: 1.0000\n",
      "Epoch 24/100\n",
      "120/120 [==============================] - 0s 2ms/step - loss: 0.0290 - accuracy: 0.9932 - val_loss: 0.0053 - val_accuracy: 1.0000\n",
      "Epoch 25/100\n",
      "120/120 [==============================] - 0s 2ms/step - loss: 0.0291 - accuracy: 0.9927 - val_loss: 0.0046 - val_accuracy: 1.0000\n",
      "Epoch 26/100\n",
      "120/120 [==============================] - 0s 2ms/step - loss: 0.0240 - accuracy: 0.9953 - val_loss: 0.0040 - val_accuracy: 1.0000\n",
      "Epoch 27/100\n",
      "120/120 [==============================] - 0s 2ms/step - loss: 0.0212 - accuracy: 0.9955 - val_loss: 0.0034 - val_accuracy: 1.0000\n",
      "Epoch 28/100\n",
      "120/120 [==============================] - 0s 2ms/step - loss: 0.0208 - accuracy: 0.9948 - val_loss: 0.0036 - val_accuracy: 1.0000\n",
      "Epoch 29/100\n",
      "120/120 [==============================] - 0s 2ms/step - loss: 0.0269 - accuracy: 0.9932 - val_loss: 0.0043 - val_accuracy: 1.0000\n",
      "Epoch 30/100\n",
      "120/120 [==============================] - 0s 2ms/step - loss: 0.0242 - accuracy: 0.9942 - val_loss: 0.0032 - val_accuracy: 1.0000\n",
      "Epoch 31/100\n",
      "120/120 [==============================] - 0s 2ms/step - loss: 0.0200 - accuracy: 0.9955 - val_loss: 0.0027 - val_accuracy: 1.0000\n",
      "Epoch 32/100\n",
      "120/120 [==============================] - 0s 3ms/step - loss: 0.0186 - accuracy: 0.9955 - val_loss: 0.0024 - val_accuracy: 1.0000\n",
      "Epoch 33/100\n",
      "120/120 [==============================] - 0s 2ms/step - loss: 0.0193 - accuracy: 0.9961 - val_loss: 0.0024 - val_accuracy: 1.0000\n",
      "Epoch 34/100\n",
      "120/120 [==============================] - 0s 3ms/step - loss: 0.0180 - accuracy: 0.9955 - val_loss: 0.0018 - val_accuracy: 1.0000\n",
      "Epoch 35/100\n",
      "120/120 [==============================] - 0s 2ms/step - loss: 0.0199 - accuracy: 0.9950 - val_loss: 0.0019 - val_accuracy: 1.0000\n",
      "Epoch 36/100\n",
      "120/120 [==============================] - 0s 2ms/step - loss: 0.0157 - accuracy: 0.9955 - val_loss: 0.0018 - val_accuracy: 1.0000\n",
      "Epoch 37/100\n",
      "120/120 [==============================] - 0s 3ms/step - loss: 0.0159 - accuracy: 0.9971 - val_loss: 0.0016 - val_accuracy: 1.0000\n",
      "Epoch 38/100\n",
      "120/120 [==============================] - 0s 3ms/step - loss: 0.0158 - accuracy: 0.9963 - val_loss: 0.0021 - val_accuracy: 1.0000\n",
      "Epoch 39/100\n",
      "120/120 [==============================] - 0s 3ms/step - loss: 0.0127 - accuracy: 0.9979 - val_loss: 0.0019 - val_accuracy: 1.0000\n",
      "Epoch 40/100\n",
      "120/120 [==============================] - 0s 3ms/step - loss: 0.0162 - accuracy: 0.9955 - val_loss: 0.0015 - val_accuracy: 1.0000\n",
      "Epoch 41/100\n",
      "120/120 [==============================] - 0s 2ms/step - loss: 0.0127 - accuracy: 0.9971 - val_loss: 0.0011 - val_accuracy: 1.0000\n",
      "Epoch 42/100\n",
      "120/120 [==============================] - 0s 2ms/step - loss: 0.0119 - accuracy: 0.9971 - val_loss: 0.0011 - val_accuracy: 1.0000\n",
      "Epoch 43/100\n",
      "120/120 [==============================] - 0s 2ms/step - loss: 0.0127 - accuracy: 0.9971 - val_loss: 0.0015 - val_accuracy: 1.0000\n",
      "Epoch 44/100\n",
      "120/120 [==============================] - 0s 2ms/step - loss: 0.0136 - accuracy: 0.9974 - val_loss: 0.0014 - val_accuracy: 1.0000\n",
      "Epoch 45/100\n",
      "120/120 [==============================] - 0s 2ms/step - loss: 0.0104 - accuracy: 0.9982 - val_loss: 7.7449e-04 - val_accuracy: 1.0000\n",
      "Epoch 46/100\n",
      "120/120 [==============================] - 0s 3ms/step - loss: 0.0130 - accuracy: 0.9966 - val_loss: 9.1522e-04 - val_accuracy: 1.0000\n",
      "Epoch 47/100\n",
      "120/120 [==============================] - 0s 2ms/step - loss: 0.0106 - accuracy: 0.9976 - val_loss: 8.3617e-04 - val_accuracy: 1.0000\n",
      "Epoch 48/100\n",
      "120/120 [==============================] - 0s 2ms/step - loss: 0.0094 - accuracy: 0.9984 - val_loss: 8.9925e-04 - val_accuracy: 1.0000\n",
      "Epoch 49/100\n",
      "120/120 [==============================] - 0s 2ms/step - loss: 0.0103 - accuracy: 0.9974 - val_loss: 7.9834e-04 - val_accuracy: 1.0000\n",
      "Epoch 50/100\n",
      "120/120 [==============================] - 0s 2ms/step - loss: 0.0085 - accuracy: 0.9979 - val_loss: 6.9267e-04 - val_accuracy: 1.0000\n",
      "Epoch 51/100\n",
      "120/120 [==============================] - 0s 2ms/step - loss: 0.0089 - accuracy: 0.9979 - val_loss: 6.3918e-04 - val_accuracy: 1.0000\n",
      "Epoch 52/100\n",
      "120/120 [==============================] - 0s 3ms/step - loss: 0.0117 - accuracy: 0.9976 - val_loss: 5.8099e-04 - val_accuracy: 1.0000\n",
      "Epoch 53/100\n",
      "120/120 [==============================] - 0s 2ms/step - loss: 0.0075 - accuracy: 0.9976 - val_loss: 4.7119e-04 - val_accuracy: 1.0000\n",
      "Epoch 54/100\n",
      "120/120 [==============================] - 0s 2ms/step - loss: 0.0080 - accuracy: 0.9984 - val_loss: 4.7233e-04 - val_accuracy: 1.0000\n",
      "Epoch 55/100\n",
      "120/120 [==============================] - 0s 3ms/step - loss: 0.0119 - accuracy: 0.9971 - val_loss: 4.5497e-04 - val_accuracy: 1.0000\n",
      "Epoch 56/100\n",
      "120/120 [==============================] - 0s 3ms/step - loss: 0.0073 - accuracy: 0.9976 - val_loss: 4.4929e-04 - val_accuracy: 1.0000\n",
      "Epoch 57/100\n",
      "120/120 [==============================] - 0s 2ms/step - loss: 0.0063 - accuracy: 0.9992 - val_loss: 3.8200e-04 - val_accuracy: 1.0000\n",
      "Epoch 58/100\n",
      "120/120 [==============================] - 0s 2ms/step - loss: 0.0107 - accuracy: 0.9979 - val_loss: 4.2675e-04 - val_accuracy: 1.0000\n",
      "Epoch 59/100\n",
      "120/120 [==============================] - 0s 2ms/step - loss: 0.0074 - accuracy: 0.9982 - val_loss: 5.4090e-04 - val_accuracy: 1.0000\n",
      "Epoch 60/100\n",
      "120/120 [==============================] - 0s 3ms/step - loss: 0.0087 - accuracy: 0.9971 - val_loss: 5.1952e-04 - val_accuracy: 1.0000\n",
      "Epoch 61/100\n",
      "120/120 [==============================] - 0s 2ms/step - loss: 0.0047 - accuracy: 0.9990 - val_loss: 4.8206e-04 - val_accuracy: 1.0000\n",
      "Epoch 62/100\n",
      "120/120 [==============================] - 0s 2ms/step - loss: 0.0074 - accuracy: 0.9979 - val_loss: 5.0660e-04 - val_accuracy: 1.0000\n",
      "Epoch 63/100\n",
      "120/120 [==============================] - 0s 2ms/step - loss: 0.0102 - accuracy: 0.9974 - val_loss: 4.3809e-04 - val_accuracy: 1.0000\n",
      "Epoch 64/100\n",
      "120/120 [==============================] - 0s 2ms/step - loss: 0.0070 - accuracy: 0.9979 - val_loss: 3.4340e-04 - val_accuracy: 1.0000\n",
      "Epoch 65/100\n",
      "120/120 [==============================] - 0s 2ms/step - loss: 0.0063 - accuracy: 0.9987 - val_loss: 4.5562e-04 - val_accuracy: 1.0000\n",
      "Epoch 66/100\n",
      "120/120 [==============================] - 0s 2ms/step - loss: 0.0053 - accuracy: 0.9982 - val_loss: 5.1739e-04 - val_accuracy: 1.0000\n",
      "Epoch 67/100\n",
      "120/120 [==============================] - 0s 2ms/step - loss: 0.0091 - accuracy: 0.9971 - val_loss: 3.8977e-04 - val_accuracy: 1.0000\n",
      "Epoch 68/100\n",
      "120/120 [==============================] - 0s 2ms/step - loss: 0.0056 - accuracy: 0.9992 - val_loss: 4.6088e-04 - val_accuracy: 1.0000\n",
      "Epoch 69/100\n",
      "120/120 [==============================] - 0s 2ms/step - loss: 0.0074 - accuracy: 0.9979 - val_loss: 2.1647e-04 - val_accuracy: 1.0000\n",
      "Epoch 70/100\n",
      "120/120 [==============================] - 0s 2ms/step - loss: 0.0040 - accuracy: 0.9990 - val_loss: 1.9575e-04 - val_accuracy: 1.0000\n",
      "Epoch 71/100\n",
      "120/120 [==============================] - 0s 2ms/step - loss: 0.0046 - accuracy: 0.9982 - val_loss: 2.0972e-04 - val_accuracy: 1.0000\n",
      "Epoch 72/100\n",
      "120/120 [==============================] - 0s 2ms/step - loss: 0.0051 - accuracy: 0.9987 - val_loss: 1.7454e-04 - val_accuracy: 1.0000\n",
      "Epoch 73/100\n",
      "120/120 [==============================] - 0s 2ms/step - loss: 0.0069 - accuracy: 0.9987 - val_loss: 1.6594e-04 - val_accuracy: 1.0000\n",
      "Epoch 74/100\n",
      "120/120 [==============================] - 0s 2ms/step - loss: 0.0049 - accuracy: 0.9990 - val_loss: 2.1230e-04 - val_accuracy: 1.0000\n",
      "Epoch 75/100\n",
      "120/120 [==============================] - 0s 2ms/step - loss: 0.0032 - accuracy: 0.9997 - val_loss: 1.6371e-04 - val_accuracy: 1.0000\n",
      "Epoch 76/100\n",
      "120/120 [==============================] - 0s 2ms/step - loss: 0.0067 - accuracy: 0.9982 - val_loss: 4.7014e-04 - val_accuracy: 1.0000\n",
      "Epoch 77/100\n",
      "120/120 [==============================] - 0s 2ms/step - loss: 0.0050 - accuracy: 0.9987 - val_loss: 1.7469e-04 - val_accuracy: 1.0000\n",
      "Epoch 78/100\n",
      "120/120 [==============================] - 0s 2ms/step - loss: 0.0057 - accuracy: 0.9984 - val_loss: 0.0011 - val_accuracy: 1.0000\n",
      "Epoch 79/100\n",
      "120/120 [==============================] - 0s 2ms/step - loss: 0.0025 - accuracy: 0.9997 - val_loss: 2.0776e-04 - val_accuracy: 1.0000\n",
      "Epoch 80/100\n",
      "120/120 [==============================] - 0s 3ms/step - loss: 0.0021 - accuracy: 0.9997 - val_loss: 1.9862e-04 - val_accuracy: 1.0000\n",
      "Epoch 81/100\n",
      "120/120 [==============================] - 0s 2ms/step - loss: 0.0031 - accuracy: 0.9995 - val_loss: 1.2718e-04 - val_accuracy: 1.0000\n",
      "Epoch 82/100\n",
      "120/120 [==============================] - 0s 2ms/step - loss: 0.0021 - accuracy: 0.9995 - val_loss: 1.5563e-04 - val_accuracy: 1.0000\n",
      "Epoch 83/100\n",
      "120/120 [==============================] - 0s 2ms/step - loss: 0.0057 - accuracy: 0.9979 - val_loss: 1.4113e-04 - val_accuracy: 1.0000\n",
      "Epoch 84/100\n",
      "120/120 [==============================] - 0s 2ms/step - loss: 0.0019 - accuracy: 0.9995 - val_loss: 1.0855e-04 - val_accuracy: 1.0000\n",
      "Epoch 85/100\n",
      "120/120 [==============================] - 0s 2ms/step - loss: 0.0033 - accuracy: 0.9992 - val_loss: 0.0052 - val_accuracy: 0.9990\n",
      "Epoch 86/100\n",
      "120/120 [==============================] - 0s 2ms/step - loss: 0.0031 - accuracy: 0.9990 - val_loss: 1.2423e-04 - val_accuracy: 1.0000\n",
      "Epoch 87/100\n",
      "120/120 [==============================] - 0s 2ms/step - loss: 0.0049 - accuracy: 0.9990 - val_loss: 1.0547e-04 - val_accuracy: 1.0000\n",
      "Epoch 88/100\n",
      "120/120 [==============================] - 0s 3ms/step - loss: 0.0095 - accuracy: 0.9976 - val_loss: 7.0414e-04 - val_accuracy: 1.0000\n",
      "Epoch 89/100\n",
      "120/120 [==============================] - 0s 3ms/step - loss: 0.0045 - accuracy: 0.9982 - val_loss: 3.2942e-04 - val_accuracy: 1.0000\n",
      "Epoch 90/100\n",
      "120/120 [==============================] - 0s 2ms/step - loss: 0.0032 - accuracy: 0.9992 - val_loss: 1.6049e-04 - val_accuracy: 1.0000\n",
      "Epoch 91/100\n",
      "120/120 [==============================] - 0s 2ms/step - loss: 0.0032 - accuracy: 0.9992 - val_loss: 1.4793e-04 - val_accuracy: 1.0000\n",
      "Epoch 92/100\n",
      "120/120 [==============================] - 0s 2ms/step - loss: 0.0036 - accuracy: 0.9990 - val_loss: 1.4106e-04 - val_accuracy: 1.0000\n",
      "Epoch 93/100\n",
      "120/120 [==============================] - 0s 2ms/step - loss: 0.0030 - accuracy: 0.9992 - val_loss: 1.3261e-04 - val_accuracy: 1.0000\n",
      "Epoch 94/100\n",
      "120/120 [==============================] - 0s 2ms/step - loss: 0.0017 - accuracy: 0.9997 - val_loss: 8.6232e-05 - val_accuracy: 1.0000\n",
      "Epoch 95/100\n",
      "120/120 [==============================] - 0s 3ms/step - loss: 0.0033 - accuracy: 0.9990 - val_loss: 1.0138e-04 - val_accuracy: 1.0000\n",
      "Epoch 96/100\n",
      "120/120 [==============================] - 0s 3ms/step - loss: 0.0049 - accuracy: 0.9992 - val_loss: 9.4707e-05 - val_accuracy: 1.0000\n",
      "Epoch 97/100\n",
      "120/120 [==============================] - 0s 2ms/step - loss: 0.0023 - accuracy: 0.9992 - val_loss: 9.6698e-05 - val_accuracy: 1.0000\n",
      "Epoch 98/100\n",
      "120/120 [==============================] - 0s 2ms/step - loss: 0.0013 - accuracy: 1.0000 - val_loss: 7.0824e-05 - val_accuracy: 1.0000\n",
      "Epoch 99/100\n",
      "120/120 [==============================] - 0s 2ms/step - loss: 0.0023 - accuracy: 0.9990 - val_loss: 7.6212e-05 - val_accuracy: 1.0000\n",
      "Epoch 100/100\n",
      "120/120 [==============================] - 0s 2ms/step - loss: 0.0015 - accuracy: 0.9997 - val_loss: 8.4761e-05 - val_accuracy: 1.0000\n",
      "30/30 [==============================] - 0s 1ms/step - loss: 8.4761e-05 - accuracy: 1.0000\n"
     ]
    }
   ],
   "source": [
    "history = model.fit(x_train, y_train, epochs = 100, validation_data= (x_test, y_test))\n",
    "score, acc = model.evaluate(x_test, y_test)"
   ]
  },
  {
   "cell_type": "code",
   "execution_count": 170,
   "metadata": {},
   "outputs": [
    {
     "name": "stdout",
     "output_type": "stream",
     "text": [
      "(955,)\n",
      "(955,)\n",
      "Training Accuracy: 1.0\n"
     ]
    }
   ],
   "source": [
    "from sklearn.metrics import accuracy_score\n",
    "pred = model.predict(x_test)\n",
    "predict_classes = np.argmax(pred,axis=1)\n",
    "expected_classes = np.argmax(y_test,axis=1)\n",
    "print(expected_classes.shape)\n",
    "print(predict_classes.shape)\n",
    "correct = accuracy_score(expected_classes,predict_classes)\n",
    "print(f\"Training Accuracy: {correct}\")"
   ]
  },
  {
   "cell_type": "code",
   "execution_count": null,
   "metadata": {},
   "outputs": [],
   "source": []
  }
 ],
 "metadata": {
  "kernelspec": {
   "display_name": "Python 3",
   "language": "python",
   "name": "python3"
  },
  "language_info": {
   "codemirror_mode": {
    "name": "ipython",
    "version": 3
   },
   "file_extension": ".py",
   "mimetype": "text/x-python",
   "name": "python",
   "nbconvert_exporter": "python",
   "pygments_lexer": "ipython3",
   "version": "3.7.10"
  }
 },
 "nbformat": 4,
 "nbformat_minor": 4
}
