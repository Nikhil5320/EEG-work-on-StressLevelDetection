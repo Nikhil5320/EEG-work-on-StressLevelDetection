{
 "cells": [
  {
   "cell_type": "code",
   "execution_count": 1,
   "id": "47a90068",
   "metadata": {},
   "outputs": [],
   "source": [
    "import random\n",
    "import numpy as np\n",
    "import math\n",
    "def sigmoid(x): \n",
    "    return 1. / (1 + np.exp(-x))\n",
    "def sigmoid_derivative(values): \n",
    "    return values*(1-values)\n",
    "def tanh_derivative(values): \n",
    "    return 1. - values ** 2\n",
    "# createst uniform random array w/ values in [a,b) and shape args\n",
    "def rand_arr(a, b, *args): \n",
    "    np.random.seed(0)\n",
    "    return np.random.rand(*args) * (b - a) + a"
   ]
  },
  {
   "cell_type": "code",
   "execution_count": 2,
   "id": "49a4e5a1",
   "metadata": {},
   "outputs": [],
   "source": [
    "class LstmParam:\n",
    "    def __init__(self, mem_cell_ct, x_dim):\n",
    "        self.mem_cell_ct = mem_cell_ct\n",
    "        self.x_dim = x_dim\n",
    "        concat_len = x_dim + mem_cell_ct\n",
    "        # weight matrices\n",
    "        self.wg = rand_arr(-0.1, 0.1, mem_cell_ct, concat_len)\n",
    "        self.wi = rand_arr(-0.1, 0.1, mem_cell_ct, concat_len) \n",
    "        self.wf = rand_arr(-0.1, 0.1, mem_cell_ct, concat_len)\n",
    "        self.wo = rand_arr(-0.1, 0.1, mem_cell_ct, concat_len)\n",
    "        # bias terms\n",
    "        self.bg = rand_arr(-0.1, 0.1, mem_cell_ct) \n",
    "        self.bi = rand_arr(-0.1, 0.1, mem_cell_ct) \n",
    "        self.bf = rand_arr(-0.1, 0.1, mem_cell_ct) \n",
    "        self.bo = rand_arr(-0.1, 0.1, mem_cell_ct) \n",
    "        # diffs (derivative of loss function w.r.t. all parameters)\n",
    "        self.wg_diff = np.zeros((mem_cell_ct, concat_len)) \n",
    "        self.wi_diff = np.zeros((mem_cell_ct, concat_len)) \n",
    "        self.wf_diff = np.zeros((mem_cell_ct, concat_len)) \n",
    "        self.wo_diff = np.zeros((mem_cell_ct, concat_len)) \n",
    "        self.bg_diff = np.zeros(mem_cell_ct) \n",
    "        self.bi_diff = np.zeros(mem_cell_ct) \n",
    "        self.bf_diff = np.zeros(mem_cell_ct) \n",
    "        self.bo_diff = np.zeros(mem_cell_ct)\n",
    "        \n",
    "        \n",
    "        #stacking x(present input xt) and h(t-1)\n",
    "        xc = np.hstack((x,  h_prev))\n",
    "        #dot product of Wf(forget weight matrix and xc +bias)\n",
    "        self.state.f = sigmoid(np.dot(self.param.wf, xc) + self.param.bf)\n",
    "        #finally multiplying forget_gate(self.state.f) with previous cell state(s_prev) \n",
    "        #to get present state.\n",
    "        self.state.s = self.state.g * self.state.i + s_prev * self.state.f\n",
    "        \n",
    "        \n",
    "        #xc already calculated above\n",
    "        self.state.i = sigmoid(np.dot(self.param.wi, xc) + self.param.bi)\n",
    "        #C(t)\n",
    "        self.state.g = np.tanh(np.dot(self.param.wg, xc) + self.param.bg)\n",
    "        \n",
    "        \n",
    "        #to calculate the present state\n",
    "        self.state.s = self.state.g * self.state.i + s_prev * self.state.f\n",
    "        \n",
    "        \n",
    "        #to calculate the output state\n",
    "        self.state.o = sigmoid(np.dot(self.param.wo, xc) + self.param.bo)\n",
    "        #output state h\n",
    "        self.state.h = self.state.s * self.state.o"
   ]
  },
  {
   "cell_type": "code",
   "execution_count": null,
   "id": "c71969bc",
   "metadata": {},
   "outputs": [],
   "source": [
    "#stacking x(present input xt) and h(t-1)\n",
    "xc = np.hstack((x,  h_prev))\n",
    "#dot product of Wf(forget weight matrix and xc +bias)\n",
    "self.state.f = sigmoid(np.dot(self.param.wf, xc) + self.param.bf)\n",
    "#finally multiplying forget_gate(self.state.f) with previous cell state(s_prev) \n",
    "#to get present state.\n",
    "self.state.s = self.state.g * self.state.i + s_prev * self.state.f"
   ]
  },
  {
   "cell_type": "code",
   "execution_count": null,
   "id": "f347da13",
   "metadata": {},
   "outputs": [],
   "source": [
    "#xc already calculated above\n",
    "self.state.i = sigmoid(np.dot(self.param.wi, xc) + self.param.bi)\n",
    "#C(t)\n",
    "self.state.g = np.tanh(np.dot(self.param.wg, xc) + self.param.bg)"
   ]
  },
  {
   "cell_type": "code",
   "execution_count": null,
   "id": "f9a5c1a7",
   "metadata": {},
   "outputs": [],
   "source": [
    "#to calculate the present state\n",
    "self.state.s = self.state.g * self.state.i + s_prev * self.state.f"
   ]
  },
  {
   "cell_type": "code",
   "execution_count": null,
   "id": "4f1e81c5",
   "metadata": {},
   "outputs": [],
   "source": [
    "#to calculate the output state\n",
    "self.state.o = sigmoid(np.dot(self.param.wo, xc) + self.param.bo)\n",
    "#output state h\n",
    "self.state.h = self.state.s * self.state.o"
   ]
  }
 ],
 "metadata": {
  "kernelspec": {
   "display_name": "Python 3",
   "language": "python",
   "name": "python3"
  },
  "language_info": {
   "codemirror_mode": {
    "name": "ipython",
    "version": 3
   },
   "file_extension": ".py",
   "mimetype": "text/x-python",
   "name": "python",
   "nbconvert_exporter": "python",
   "pygments_lexer": "ipython3",
   "version": "3.7.10"
  }
 },
 "nbformat": 4,
 "nbformat_minor": 5
}
